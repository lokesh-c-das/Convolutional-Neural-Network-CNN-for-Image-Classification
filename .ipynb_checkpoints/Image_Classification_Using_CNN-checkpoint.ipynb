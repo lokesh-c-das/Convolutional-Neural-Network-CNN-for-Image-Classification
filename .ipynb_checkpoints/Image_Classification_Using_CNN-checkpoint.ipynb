{
 "cells": [
  {
   "cell_type": "markdown",
   "id": "d779015b",
   "metadata": {},
   "source": [
    "Task: Design a convoluational neural network (CNN) to classify image dataset"
   ]
  },
  {
   "cell_type": "markdown",
   "id": "8t3Vs66Y8MLu",
   "metadata": {
    "id": "8t3Vs66Y8MLu"
   },
   "source": [
    "**Implementation Steps:**\n",
    "*   Define necessary libraries\n",
    "*   load datasets and split into training and testing set according to direction\n",
    "*   Normalize image pixel values bewteen 0 and 1\n",
    "*   Define Hyperparameters, i.e., batch_size, optimizer, loss function etc\n",
    "*   Define deep neural network architecture \n",
    "*   Compile the model and fit the data\n",
    "*   Finally, evaluate the model"
   ]
  },
  {
   "cell_type": "markdown",
   "id": "IrKi_CNb8jUB",
   "metadata": {
    "id": "IrKi_CNb8jUB"
   },
   "source": [
    "# Load all necessary libraries"
   ]
  },
  {
   "cell_type": "markdown",
   "id": "q_ClYoXcVMyD",
   "metadata": {
    "id": "q_ClYoXcVMyD"
   },
   "source": [
    "# **Problem 1:**"
   ]
  },
  {
   "cell_type": "code",
   "execution_count": null,
   "id": "460f47f7",
   "metadata": {
    "id": "460f47f7"
   },
   "outputs": [],
   "source": [
    "import tensorflow as tf\n",
    "from tensorflow.keras import datasets, layers, models\n",
    "import matplotlib.pyplot as plt\n",
    "from tensorflow import keras\n",
    "from tensorflow.keras.regularizers import l2\n",
    "import numpy as np "
   ]
  },
  {
   "cell_type": "markdown",
   "id": "Y64SO3cu8rHU",
   "metadata": {
    "id": "Y64SO3cu8rHU"
   },
   "source": [
    "# Load Dataset and create as training and testing sets"
   ]
  },
  {
   "cell_type": "code",
   "execution_count": null,
   "id": "1522f2bf",
   "metadata": {
    "id": "1522f2bf"
   },
   "outputs": [],
   "source": [
    "(x_train, y_train),(x_test, y_test) = datasets.cifar10.load_data()"
   ]
  },
  {
   "cell_type": "code",
   "execution_count": null,
   "id": "81aiTpefoSHR",
   "metadata": {
    "colab": {
     "base_uri": "https://localhost:8080/"
    },
    "executionInfo": {
     "elapsed": 6,
     "status": "ok",
     "timestamp": 1632277422999,
     "user": {
      "displayName": "Lokesh Das",
      "photoUrl": "https://lh3.googleusercontent.com/a-/AOh14Gjw3b60ubMiSG1ewSk6HS4odm47Tv7_4eMohXcJAg=s64",
      "userId": "07729187777678404563"
     },
     "user_tz": 300
    },
    "id": "81aiTpefoSHR",
    "outputId": "12987992-78ef-4648-ffac-0ebc013799a7"
   },
   "outputs": [
    {
     "name": "stdout",
     "output_type": "stream",
     "text": [
      "Training set Size:  50000\n",
      "Testing set size:  10000\n"
     ]
    }
   ],
   "source": [
    "print(\"Training set Size: \", x_train.shape[0])\n",
    "print(\"Testing set size: \", x_test.shape[0])"
   ]
  },
  {
   "cell_type": "code",
   "execution_count": null,
   "id": "08a381f6",
   "metadata": {
    "id": "08a381f6"
   },
   "outputs": [],
   "source": [
    "# Normalize pixel values to be between 0 and 1\n",
    "x_train = x_train.astype('float32')\n",
    "x_test = x_test.astype('float32')\n",
    "x_train, x_test = x_train / 255.0, x_test / 255.0"
   ]
  },
  {
   "cell_type": "code",
   "execution_count": null,
   "id": "6f09dbc7",
   "metadata": {
    "id": "6f09dbc7"
   },
   "outputs": [],
   "source": [
    "y_train = keras.utils.to_categorical(y_train, 10)\n",
    "y_test = keras.utils.to_categorical(y_test, 10)"
   ]
  },
  {
   "cell_type": "code",
   "execution_count": null,
   "id": "5423c9f3",
   "metadata": {
    "id": "5423c9f3"
   },
   "outputs": [],
   "source": [
    "model = models.Sequential()\n",
    "model.add(layers.Conv2D(32, (5, 5), activation='relu', \n",
    "                        input_shape=(32, 32, 3)))\n",
    "model.add(layers.BatchNormalization())\n",
    "model.add(layers.MaxPooling2D((2, 2)))\n",
    "model.add(layers.Conv2D(64, (3, 3), activation='relu'))\n",
    "model.add(layers.BatchNormalization())\n",
    "model.add(layers.MaxPooling2D((2, 2)))\n",
    "model.add(layers.Flatten())\n",
    "model.add(layers.Dense(512,activation='relu'))\n",
    "model.add(layers.BatchNormalization())\n",
    "model.add(layers.Dense(10,activation='softmax'))"
   ]
  },
  {
   "cell_type": "code",
   "execution_count": null,
   "id": "eef0fc7c",
   "metadata": {
    "colab": {
     "base_uri": "https://localhost:8080/"
    },
    "executionInfo": {
     "elapsed": 10,
     "status": "ok",
     "timestamp": 1632277430747,
     "user": {
      "displayName": "Lokesh Das",
      "photoUrl": "https://lh3.googleusercontent.com/a-/AOh14Gjw3b60ubMiSG1ewSk6HS4odm47Tv7_4eMohXcJAg=s64",
      "userId": "07729187777678404563"
     },
     "user_tz": 300
    },
    "id": "eef0fc7c",
    "outputId": "e6227543-a123-4687-c735-2fda9a0faca0"
   },
   "outputs": [
    {
     "name": "stdout",
     "output_type": "stream",
     "text": [
      "Model: \"sequential_4\"\n",
      "_________________________________________________________________\n",
      "Layer (type)                 Output Shape              Param #   \n",
      "=================================================================\n",
      "conv2d_8 (Conv2D)            (None, 28, 28, 32)        2432      \n",
      "_________________________________________________________________\n",
      "batch_normalization_12 (Batc (None, 28, 28, 32)        128       \n",
      "_________________________________________________________________\n",
      "max_pooling2d_8 (MaxPooling2 (None, 14, 14, 32)        0         \n",
      "_________________________________________________________________\n",
      "conv2d_9 (Conv2D)            (None, 12, 12, 64)        18496     \n",
      "_________________________________________________________________\n",
      "batch_normalization_13 (Batc (None, 12, 12, 64)        256       \n",
      "_________________________________________________________________\n",
      "max_pooling2d_9 (MaxPooling2 (None, 6, 6, 64)          0         \n",
      "_________________________________________________________________\n",
      "flatten_4 (Flatten)          (None, 2304)              0         \n",
      "_________________________________________________________________\n",
      "dense_8 (Dense)              (None, 512)               1180160   \n",
      "_________________________________________________________________\n",
      "batch_normalization_14 (Batc (None, 512)               2048      \n",
      "_________________________________________________________________\n",
      "dense_9 (Dense)              (None, 10)                5130      \n",
      "=================================================================\n",
      "Total params: 1,208,650\n",
      "Trainable params: 1,207,434\n",
      "Non-trainable params: 1,216\n",
      "_________________________________________________________________\n"
     ]
    }
   ],
   "source": [
    "model.summary()"
   ]
  },
  {
   "cell_type": "code",
   "execution_count": null,
   "id": "d861eadf",
   "metadata": {
    "id": "d861eadf"
   },
   "outputs": [],
   "source": [
    "model.compile(loss=tf.keras.losses.categorical_crossentropy, optimizer=keras.optimizers.SGD(learning_rate=0.0001,momentum=0.9)\n",
    "             ,metrics=['accuracy'])"
   ]
  },
  {
   "cell_type": "markdown",
   "id": "tEK7mV1x9CRD",
   "metadata": {
    "id": "tEK7mV1x9CRD"
   },
   "source": [
    "# Training Log"
   ]
  },
  {
   "cell_type": "code",
   "execution_count": null,
   "id": "c4a54f94",
   "metadata": {
    "colab": {
     "base_uri": "https://localhost:8080/"
    },
    "executionInfo": {
     "elapsed": 427838,
     "status": "ok",
     "timestamp": 1632277862820,
     "user": {
      "displayName": "Lokesh Das",
      "photoUrl": "https://lh3.googleusercontent.com/a-/AOh14Gjw3b60ubMiSG1ewSk6HS4odm47Tv7_4eMohXcJAg=s64",
      "userId": "07729187777678404563"
     },
     "user_tz": 300
    },
    "id": "c4a54f94",
    "outputId": "296ae725-2dff-4b31-b98c-f64781d4f0f0"
   },
   "outputs": [
    {
     "name": "stdout",
     "output_type": "stream",
     "text": [
      "Epoch 1/100\n",
      "1407/1407 - 5s - loss: 1.7940 - accuracy: 0.3813 - val_loss: 1.5301 - val_accuracy: 0.4730\n",
      "Epoch 2/100\n",
      "1407/1407 - 4s - loss: 1.4402 - accuracy: 0.4972 - val_loss: 1.4173 - val_accuracy: 0.4982\n",
      "Epoch 3/100\n",
      "1407/1407 - 4s - loss: 1.3052 - accuracy: 0.5441 - val_loss: 1.3169 - val_accuracy: 0.5364\n",
      "Epoch 4/100\n",
      "1407/1407 - 4s - loss: 1.2188 - accuracy: 0.5762 - val_loss: 1.2902 - val_accuracy: 0.5526\n",
      "Epoch 5/100\n",
      "1407/1407 - 4s - loss: 1.1567 - accuracy: 0.6009 - val_loss: 1.2058 - val_accuracy: 0.5698\n",
      "Epoch 6/100\n",
      "1407/1407 - 4s - loss: 1.0973 - accuracy: 0.6212 - val_loss: 1.2066 - val_accuracy: 0.5734\n",
      "Epoch 7/100\n",
      "1407/1407 - 4s - loss: 1.0473 - accuracy: 0.6384 - val_loss: 1.1014 - val_accuracy: 0.6224\n",
      "Epoch 8/100\n",
      "1407/1407 - 4s - loss: 1.0074 - accuracy: 0.6532 - val_loss: 1.3393 - val_accuracy: 0.5414\n",
      "Epoch 9/100\n",
      "1407/1407 - 4s - loss: 0.9726 - accuracy: 0.6628 - val_loss: 1.1617 - val_accuracy: 0.6012\n",
      "Epoch 10/100\n",
      "1407/1407 - 4s - loss: 0.9375 - accuracy: 0.6780 - val_loss: 1.0854 - val_accuracy: 0.6302\n",
      "Epoch 11/100\n",
      "1407/1407 - 4s - loss: 0.9060 - accuracy: 0.6897 - val_loss: 1.2845 - val_accuracy: 0.5730\n",
      "Epoch 12/100\n",
      "1407/1407 - 4s - loss: 0.8813 - accuracy: 0.6983 - val_loss: 1.0312 - val_accuracy: 0.6422\n",
      "Epoch 13/100\n",
      "1407/1407 - 4s - loss: 0.8560 - accuracy: 0.7056 - val_loss: 1.2571 - val_accuracy: 0.5828\n",
      "Epoch 14/100\n",
      "1407/1407 - 4s - loss: 0.8306 - accuracy: 0.7178 - val_loss: 1.3060 - val_accuracy: 0.5596\n",
      "Epoch 15/100\n",
      "1407/1407 - 4s - loss: 0.8082 - accuracy: 0.7257 - val_loss: 1.0222 - val_accuracy: 0.6494\n",
      "Epoch 16/100\n",
      "1407/1407 - 4s - loss: 0.7872 - accuracy: 0.7312 - val_loss: 0.9988 - val_accuracy: 0.6574\n",
      "Epoch 17/100\n",
      "1407/1407 - 4s - loss: 0.7629 - accuracy: 0.7394 - val_loss: 1.0638 - val_accuracy: 0.6404\n",
      "Epoch 18/100\n",
      "1407/1407 - 4s - loss: 0.7443 - accuracy: 0.7470 - val_loss: 0.9118 - val_accuracy: 0.6930\n",
      "Epoch 19/100\n",
      "1407/1407 - 4s - loss: 0.7252 - accuracy: 0.7520 - val_loss: 1.4452 - val_accuracy: 0.5652\n",
      "Epoch 20/100\n",
      "1407/1407 - 4s - loss: 0.7057 - accuracy: 0.7618 - val_loss: 0.9381 - val_accuracy: 0.6724\n",
      "Epoch 21/100\n",
      "1407/1407 - 4s - loss: 0.6879 - accuracy: 0.7677 - val_loss: 0.9602 - val_accuracy: 0.6802\n",
      "Epoch 22/100\n",
      "1407/1407 - 4s - loss: 0.6715 - accuracy: 0.7741 - val_loss: 0.9804 - val_accuracy: 0.6694\n",
      "Epoch 23/100\n",
      "1407/1407 - 4s - loss: 0.6548 - accuracy: 0.7805 - val_loss: 0.8880 - val_accuracy: 0.6896\n",
      "Epoch 24/100\n",
      "1407/1407 - 4s - loss: 0.6382 - accuracy: 0.7880 - val_loss: 0.9454 - val_accuracy: 0.6718\n",
      "Epoch 25/100\n",
      "1407/1407 - 4s - loss: 0.6215 - accuracy: 0.7936 - val_loss: 0.9918 - val_accuracy: 0.6610\n",
      "Epoch 26/100\n",
      "1407/1407 - 4s - loss: 0.6040 - accuracy: 0.7996 - val_loss: 0.9626 - val_accuracy: 0.6766\n",
      "Epoch 27/100\n",
      "1407/1407 - 4s - loss: 0.5888 - accuracy: 0.8064 - val_loss: 1.0360 - val_accuracy: 0.6482\n",
      "Epoch 28/100\n",
      "1407/1407 - 4s - loss: 0.5723 - accuracy: 0.8109 - val_loss: 0.9214 - val_accuracy: 0.6820\n",
      "Epoch 29/100\n",
      "1407/1407 - 4s - loss: 0.5589 - accuracy: 0.8152 - val_loss: 0.9851 - val_accuracy: 0.6656\n",
      "Epoch 30/100\n",
      "1407/1407 - 4s - loss: 0.5439 - accuracy: 0.8232 - val_loss: 1.0085 - val_accuracy: 0.6576\n",
      "Epoch 31/100\n",
      "1407/1407 - 4s - loss: 0.5273 - accuracy: 0.8303 - val_loss: 0.9860 - val_accuracy: 0.6700\n",
      "Epoch 32/100\n",
      "1407/1407 - 4s - loss: 0.5109 - accuracy: 0.8346 - val_loss: 1.0088 - val_accuracy: 0.6718\n",
      "Epoch 33/100\n",
      "1407/1407 - 4s - loss: 0.4982 - accuracy: 0.8393 - val_loss: 1.0695 - val_accuracy: 0.6504\n",
      "Epoch 34/100\n",
      "1407/1407 - 4s - loss: 0.4868 - accuracy: 0.8426 - val_loss: 1.0101 - val_accuracy: 0.6642\n",
      "Epoch 35/100\n",
      "1407/1407 - 4s - loss: 0.4738 - accuracy: 0.8488 - val_loss: 0.8896 - val_accuracy: 0.6994\n",
      "Epoch 36/100\n",
      "1407/1407 - 4s - loss: 0.4603 - accuracy: 0.8542 - val_loss: 0.9061 - val_accuracy: 0.6954\n",
      "Epoch 37/100\n",
      "1407/1407 - 4s - loss: 0.4492 - accuracy: 0.8559 - val_loss: 0.9943 - val_accuracy: 0.6746\n",
      "Epoch 38/100\n",
      "1407/1407 - 4s - loss: 0.4381 - accuracy: 0.8610 - val_loss: 0.9402 - val_accuracy: 0.6836\n",
      "Epoch 39/100\n",
      "1407/1407 - 4s - loss: 0.4229 - accuracy: 0.8689 - val_loss: 0.9624 - val_accuracy: 0.6820\n",
      "Epoch 40/100\n",
      "1407/1407 - 4s - loss: 0.4068 - accuracy: 0.8750 - val_loss: 0.9715 - val_accuracy: 0.6778\n",
      "Epoch 41/100\n",
      "1407/1407 - 4s - loss: 0.3987 - accuracy: 0.8762 - val_loss: 0.9286 - val_accuracy: 0.6936\n",
      "Epoch 42/100\n",
      "1407/1407 - 4s - loss: 0.3856 - accuracy: 0.8827 - val_loss: 0.9754 - val_accuracy: 0.6800\n",
      "Epoch 43/100\n",
      "1407/1407 - 4s - loss: 0.3766 - accuracy: 0.8851 - val_loss: 0.9002 - val_accuracy: 0.7068\n",
      "Epoch 44/100\n",
      "1407/1407 - 4s - loss: 0.3640 - accuracy: 0.8910 - val_loss: 0.9369 - val_accuracy: 0.6910\n",
      "Epoch 45/100\n",
      "1407/1407 - 4s - loss: 0.3526 - accuracy: 0.8949 - val_loss: 1.1056 - val_accuracy: 0.6552\n",
      "Epoch 46/100\n",
      "1407/1407 - 4s - loss: 0.3397 - accuracy: 0.8987 - val_loss: 1.0028 - val_accuracy: 0.6790\n",
      "Epoch 47/100\n",
      "1407/1407 - 4s - loss: 0.3288 - accuracy: 0.9043 - val_loss: 0.9063 - val_accuracy: 0.7016\n",
      "Epoch 48/100\n",
      "1407/1407 - 4s - loss: 0.3203 - accuracy: 0.9088 - val_loss: 1.0541 - val_accuracy: 0.6740\n",
      "Epoch 49/100\n",
      "1407/1407 - 4s - loss: 0.3113 - accuracy: 0.9095 - val_loss: 0.9928 - val_accuracy: 0.6856\n",
      "Epoch 50/100\n",
      "1407/1407 - 4s - loss: 0.3024 - accuracy: 0.9127 - val_loss: 0.9474 - val_accuracy: 0.6896\n",
      "Epoch 51/100\n",
      "1407/1407 - 4s - loss: 0.2907 - accuracy: 0.9176 - val_loss: 1.0548 - val_accuracy: 0.6736\n",
      "Epoch 52/100\n",
      "1407/1407 - 4s - loss: 0.2825 - accuracy: 0.9211 - val_loss: 1.0455 - val_accuracy: 0.6782\n",
      "Epoch 53/100\n",
      "1407/1407 - 4s - loss: 0.2741 - accuracy: 0.9234 - val_loss: 0.9303 - val_accuracy: 0.7076\n",
      "Epoch 54/100\n",
      "1407/1407 - 4s - loss: 0.2637 - accuracy: 0.9272 - val_loss: 0.9739 - val_accuracy: 0.6952\n",
      "Epoch 55/100\n",
      "1407/1407 - 4s - loss: 0.2595 - accuracy: 0.9299 - val_loss: 0.9531 - val_accuracy: 0.7024\n",
      "Epoch 56/100\n",
      "1407/1407 - 4s - loss: 0.2473 - accuracy: 0.9353 - val_loss: 0.9943 - val_accuracy: 0.6956\n",
      "Epoch 57/100\n",
      "1407/1407 - 4s - loss: 0.2406 - accuracy: 0.9372 - val_loss: 1.0956 - val_accuracy: 0.6622\n",
      "Epoch 58/100\n",
      "1407/1407 - 4s - loss: 0.2348 - accuracy: 0.9384 - val_loss: 1.0007 - val_accuracy: 0.6908\n",
      "Epoch 59/100\n",
      "1407/1407 - 4s - loss: 0.2263 - accuracy: 0.9417 - val_loss: 0.9921 - val_accuracy: 0.6904\n",
      "Epoch 60/100\n",
      "1407/1407 - 4s - loss: 0.2213 - accuracy: 0.9430 - val_loss: 0.9710 - val_accuracy: 0.6956\n",
      "Epoch 61/100\n",
      "1407/1407 - 4s - loss: 0.2135 - accuracy: 0.9465 - val_loss: 0.9822 - val_accuracy: 0.6908\n",
      "Epoch 62/100\n",
      "1407/1407 - 4s - loss: 0.2080 - accuracy: 0.9495 - val_loss: 0.9367 - val_accuracy: 0.7074\n",
      "Epoch 63/100\n",
      "1407/1407 - 4s - loss: 0.1992 - accuracy: 0.9500 - val_loss: 1.0395 - val_accuracy: 0.6820\n",
      "Epoch 64/100\n",
      "1407/1407 - 4s - loss: 0.1982 - accuracy: 0.9531 - val_loss: 0.9998 - val_accuracy: 0.6948\n",
      "Epoch 65/100\n",
      "1407/1407 - 4s - loss: 0.1870 - accuracy: 0.9551 - val_loss: 0.9986 - val_accuracy: 0.6940\n",
      "Epoch 66/100\n",
      "1407/1407 - 4s - loss: 0.1860 - accuracy: 0.9558 - val_loss: 0.9977 - val_accuracy: 0.6946\n",
      "Epoch 67/100\n",
      "1407/1407 - 4s - loss: 0.1766 - accuracy: 0.9587 - val_loss: 0.9504 - val_accuracy: 0.7072\n",
      "Epoch 68/100\n",
      "1407/1407 - 4s - loss: 0.1688 - accuracy: 0.9620 - val_loss: 0.9957 - val_accuracy: 0.7020\n",
      "Epoch 69/100\n",
      "1407/1407 - 4s - loss: 0.1693 - accuracy: 0.9624 - val_loss: 1.0297 - val_accuracy: 0.6854\n",
      "Epoch 70/100\n",
      "1407/1407 - 4s - loss: 0.1613 - accuracy: 0.9643 - val_loss: 1.0133 - val_accuracy: 0.6994\n",
      "Epoch 71/100\n",
      "1407/1407 - 4s - loss: 0.1568 - accuracy: 0.9664 - val_loss: 1.0060 - val_accuracy: 0.6996\n",
      "Epoch 72/100\n",
      "1407/1407 - 4s - loss: 0.1529 - accuracy: 0.9672 - val_loss: 0.9788 - val_accuracy: 0.7046\n",
      "Epoch 73/100\n",
      "1407/1407 - 4s - loss: 0.1495 - accuracy: 0.9667 - val_loss: 1.0068 - val_accuracy: 0.7004\n",
      "Epoch 74/100\n",
      "1407/1407 - 4s - loss: 0.1410 - accuracy: 0.9704 - val_loss: 1.0028 - val_accuracy: 0.7018\n",
      "Epoch 75/100\n",
      "1407/1407 - 4s - loss: 0.1393 - accuracy: 0.9714 - val_loss: 1.0046 - val_accuracy: 0.7040\n",
      "Epoch 76/100\n",
      "1407/1407 - 4s - loss: 0.1359 - accuracy: 0.9721 - val_loss: 1.0308 - val_accuracy: 0.6938\n",
      "Epoch 77/100\n",
      "1407/1407 - 4s - loss: 0.1316 - accuracy: 0.9738 - val_loss: 1.0306 - val_accuracy: 0.6962\n",
      "Epoch 78/100\n",
      "1407/1407 - 4s - loss: 0.1287 - accuracy: 0.9741 - val_loss: 1.0704 - val_accuracy: 0.6896\n",
      "Epoch 79/100\n",
      "1407/1407 - 4s - loss: 0.1236 - accuracy: 0.9757 - val_loss: 1.0227 - val_accuracy: 0.7060\n",
      "Epoch 80/100\n",
      "1407/1407 - 4s - loss: 0.1220 - accuracy: 0.9757 - val_loss: 1.0526 - val_accuracy: 0.6924\n",
      "Epoch 81/100\n",
      "1407/1407 - 4s - loss: 0.1210 - accuracy: 0.9759 - val_loss: 1.1578 - val_accuracy: 0.6836\n",
      "Epoch 82/100\n",
      "1407/1407 - 4s - loss: 0.1147 - accuracy: 0.9783 - val_loss: 1.0105 - val_accuracy: 0.7054\n",
      "Epoch 83/100\n",
      "1407/1407 - 4s - loss: 0.1126 - accuracy: 0.9796 - val_loss: 1.0923 - val_accuracy: 0.6882\n",
      "Epoch 84/100\n",
      "1407/1407 - 4s - loss: 0.1098 - accuracy: 0.9798 - val_loss: 1.0865 - val_accuracy: 0.6894\n",
      "Epoch 85/100\n",
      "1407/1407 - 4s - loss: 0.1064 - accuracy: 0.9804 - val_loss: 1.0531 - val_accuracy: 0.6960\n",
      "Epoch 86/100\n",
      "1407/1407 - 4s - loss: 0.1036 - accuracy: 0.9806 - val_loss: 1.0304 - val_accuracy: 0.7004\n",
      "Epoch 87/100\n",
      "1407/1407 - 4s - loss: 0.1020 - accuracy: 0.9820 - val_loss: 1.0743 - val_accuracy: 0.6914\n",
      "Epoch 88/100\n",
      "1407/1407 - 4s - loss: 0.0975 - accuracy: 0.9826 - val_loss: 1.1229 - val_accuracy: 0.6838\n",
      "Epoch 89/100\n",
      "1407/1407 - 4s - loss: 0.0973 - accuracy: 0.9823 - val_loss: 1.1003 - val_accuracy: 0.6900\n",
      "Epoch 90/100\n",
      "1407/1407 - 4s - loss: 0.0939 - accuracy: 0.9847 - val_loss: 1.0346 - val_accuracy: 0.7038\n",
      "Epoch 91/100\n",
      "1407/1407 - 4s - loss: 0.0931 - accuracy: 0.9837 - val_loss: 1.1285 - val_accuracy: 0.6838\n",
      "Epoch 92/100\n",
      "1407/1407 - 4s - loss: 0.0897 - accuracy: 0.9848 - val_loss: 1.0789 - val_accuracy: 0.6946\n",
      "Epoch 93/100\n",
      "1407/1407 - 4s - loss: 0.0865 - accuracy: 0.9863 - val_loss: 1.0514 - val_accuracy: 0.6996\n",
      "Epoch 94/100\n",
      "1407/1407 - 4s - loss: 0.0845 - accuracy: 0.9864 - val_loss: 1.1131 - val_accuracy: 0.6902\n",
      "Epoch 95/100\n",
      "1407/1407 - 4s - loss: 0.0828 - accuracy: 0.9871 - val_loss: 1.0390 - val_accuracy: 0.7060\n",
      "Epoch 96/100\n",
      "1407/1407 - 4s - loss: 0.0813 - accuracy: 0.9875 - val_loss: 1.0629 - val_accuracy: 0.7062\n",
      "Epoch 97/100\n",
      "1407/1407 - 4s - loss: 0.0785 - accuracy: 0.9878 - val_loss: 1.1101 - val_accuracy: 0.6920\n",
      "Epoch 98/100\n",
      "1407/1407 - 4s - loss: 0.0764 - accuracy: 0.9881 - val_loss: 1.1062 - val_accuracy: 0.7018\n",
      "Epoch 99/100\n",
      "1407/1407 - 4s - loss: 0.0801 - accuracy: 0.9877 - val_loss: 1.0763 - val_accuracy: 0.7050\n",
      "Epoch 100/100\n",
      "1407/1407 - 4s - loss: 0.0741 - accuracy: 0.9888 - val_loss: 1.0955 - val_accuracy: 0.6982\n"
     ]
    }
   ],
   "source": [
    "history = model.fit(x_train, y_train,\n",
    "          batch_size=32,\n",
    "          epochs=100,\n",
    "          verbose=2,shuffle=True,validation_split=0.1)"
   ]
  },
  {
   "cell_type": "code",
   "execution_count": null,
   "id": "L-JnPYrN9vqT",
   "metadata": {
    "colab": {
     "base_uri": "https://localhost:8080/"
    },
    "executionInfo": {
     "elapsed": 1057,
     "status": "ok",
     "timestamp": 1632278161250,
     "user": {
      "displayName": "Lokesh Das",
      "photoUrl": "https://lh3.googleusercontent.com/a-/AOh14Gjw3b60ubMiSG1ewSk6HS4odm47Tv7_4eMohXcJAg=s64",
      "userId": "07729187777678404563"
     },
     "user_tz": 300
    },
    "id": "L-JnPYrN9vqT",
    "outputId": "0c08c8bb-d7f8-4e7f-840d-9322b9415fd7"
   },
   "outputs": [
    {
     "name": "stdout",
     "output_type": "stream",
     "text": [
      "313/313 [==============================] - 1s 2ms/step - loss: 1.1936 - accuracy: 0.6875\n"
     ]
    }
   ],
   "source": [
    "prediction = model.evaluate(x_test,y_test)"
   ]
  },
  {
   "cell_type": "code",
   "execution_count": null,
   "id": "shU4RVfjKA8T",
   "metadata": {
    "colab": {
     "base_uri": "https://localhost:8080/"
    },
    "executionInfo": {
     "elapsed": 140,
     "status": "ok",
     "timestamp": 1632278165096,
     "user": {
      "displayName": "Lokesh Das",
      "photoUrl": "https://lh3.googleusercontent.com/a-/AOh14Gjw3b60ubMiSG1ewSk6HS4odm47Tv7_4eMohXcJAg=s64",
      "userId": "07729187777678404563"
     },
     "user_tz": 300
    },
    "id": "shU4RVfjKA8T",
    "outputId": "a335be56-8c8b-4d98-85be-bfe62dcda2f9"
   },
   "outputs": [
    {
     "name": "stdout",
     "output_type": "stream",
     "text": [
      "Testing accuracy:  68.75 %\n",
      "Testing Loss:  1.19\n"
     ]
    }
   ],
   "source": [
    "print(\"Testing accuracy: \",np.around(prediction[1]*100, decimals=2),\"%\")\n",
    "print(\"Testing Loss: \",np.around(prediction[0],decimals=2))"
   ]
  },
  {
   "cell_type": "code",
   "execution_count": null,
   "id": "fbd857e1",
   "metadata": {
    "colab": {
     "base_uri": "https://localhost:8080/",
     "height": 573
    },
    "executionInfo": {
     "elapsed": 660,
     "status": "ok",
     "timestamp": 1632278168525,
     "user": {
      "displayName": "Lokesh Das",
      "photoUrl": "https://lh3.googleusercontent.com/a-/AOh14Gjw3b60ubMiSG1ewSk6HS4odm47Tv7_4eMohXcJAg=s64",
      "userId": "07729187777678404563"
     },
     "user_tz": 300
    },
    "id": "fbd857e1",
    "outputId": "895f8c21-5d31-4f7a-cb47-e21117ba3182"
   },
   "outputs": [
    {
     "data": {
      "image/png": "[encoded data removed]",
      "text/plain": [
       "<Figure size 432x288 with 1 Axes>"
      ]
     },
     "metadata": {},
     "output_type": "display_data"
    },
    {
     "data": {
      "image/png": "[encoded data removed]",
      "text/plain": [
       "<Figure size 432x288 with 1 Axes>"
      ]
     },
     "metadata": {},
     "output_type": "display_data"
    }
   ],
   "source": [
    "\n",
    "plt.plot(history.history['accuracy'], label='accuracy')\n",
    "plt.plot(history.history['val_accuracy'], label = 'val_accuracy')\n",
    "plt.xlabel('Epoch')\n",
    "plt.ylabel('Accuracy')\n",
    "plt.legend(loc='lower right')\n",
    "plt.title(\"Model Accuracy\")\n",
    "plt.show()\n",
    "plt.plot(history.history['loss'],'r', label='loss')\n",
    "plt.plot(history.history['val_loss'],'c', label = 'val_loss')\n",
    "plt.xlabel('Epoch')\n",
    "plt.ylabel('Loss')\n",
    "plt.legend(loc='upper right')\n",
    "plt.title('Model Loss')\n",
    "plt.savefig('model_1_loss.png',format='png')\n",
    "plt.show()"
   ]
  }
 ],
 "metadata": {
  "accelerator": "GPU",
  "colab": {
   "machine_shape": "hm",
   "provenance": []
  },
  "kernelspec": {
   "display_name": "Python 3 (ipykernel)",
   "language": "python",
   "name": "python3"
  },
  "language_info": {
   "codemirror_mode": {
    "name": "ipython",
    "version": 3
   },
   "file_extension": ".py",
   "mimetype": "text/x-python",
   "name": "python",
   "nbconvert_exporter": "python",
   "pygments_lexer": "ipython3",
   "version": "3.9.15"
  }
 },
 "nbformat": 4,
 "nbformat_minor": 5
}
