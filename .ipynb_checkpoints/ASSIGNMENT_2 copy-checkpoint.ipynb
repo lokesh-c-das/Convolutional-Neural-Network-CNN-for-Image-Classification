{
 "cells": [
  {
   "cell_type": "markdown",
   "id": "v4FfQnmsJo4j",
   "metadata": {
    "id": "v4FfQnmsJo4j"
   },
   "source": [
    "** TASK **\n",
    "Desing a covolutional neural network to classifiy images on CIFAR-10 and 15-Scene Image Dataset."
   ]
  },
  {
   "cell_type": "markdown",
   "id": "8t3Vs66Y8MLu",
   "metadata": {
    "id": "8t3Vs66Y8MLu"
   },
   "source": [
    "**Methodology:**\n",
    "\n",
    "\n",
    "*   Define necessary libraries\n",
    "*   load datasets and split into training and testing set according to direction\n",
    "*   Normalize image pixel values bewteen 0 and 1\n",
    "*   Define Hyperparameters, i.e., batch_size, optimizer, loss function etc\n",
    "*   Define deep neural network architecture \n",
    "*   Compile the model and fit the data\n",
    "*   Finally, evaluate the model"
   ]
  },
  {
   "cell_type": "markdown",
   "id": "uEMVgC-4ZDOH",
   "metadata": {
    "id": "uEMVgC-4ZDOH"
   },
   "source": [
    "# **Deep Learning Architecture:**"
   ]
  },
  {
   "cell_type": "markdown",
   "id": "KSPBnUNr8R4a",
   "metadata": {
    "id": "KSPBnUNr8R4a"
   },
   "source": [
    "# **Experiment and Result:**"
   ]
  },
  {
   "cell_type": "markdown",
   "id": "q_ClYoXcVMyD",
   "metadata": {
    "id": "q_ClYoXcVMyD"
   },
   "source": [
    "# **Problem 1:**"
   ]
  },
  {
   "cell_type": "markdown",
   "id": "IrKi_CNb8jUB",
   "metadata": {
    "id": "IrKi_CNb8jUB"
   },
   "source": [
    "# Load all necessary libraries"
   ]
  },
  {
   "cell_type": "code",
   "execution_count": null,
   "id": "460f47f7",
   "metadata": {
    "id": "460f47f7"
   },
   "outputs": [],
   "source": [
    "import tensorflow as tf\n",
    "from tensorflow.keras import datasets, layers, models\n",
    "import matplotlib.pyplot as plt\n",
    "from tensorflow import keras\n",
    "from tensorflow.keras.regularizers import l2\n",
    "import numpy as np "
   ]
  },
  {
   "cell_type": "markdown",
   "id": "Y64SO3cu8rHU",
   "metadata": {
    "id": "Y64SO3cu8rHU"
   },
   "source": [
    "# Load Dataset and create as training and testing sets"
   ]
  },
  {
   "cell_type": "code",
   "execution_count": null,
   "id": "1522f2bf",
   "metadata": {
    "id": "1522f2bf"
   },
   "outputs": [],
   "source": [
    "(x_train, y_train),(x_test, y_test) = datasets.cifar10.load_data()"
   ]
  },
  {
   "cell_type": "code",
   "execution_count": null,
   "id": "81aiTpefoSHR",
   "metadata": {
    "colab": {
     "base_uri": "https://localhost:8080/"
    },
    "executionInfo": {
     "elapsed": 6,
     "status": "ok",
     "timestamp": 1632277422999,
     "user": {
      "displayName": "Lokesh Das",
      "photoUrl": "https://lh3.googleusercontent.com/a-/AOh14Gjw3b60ubMiSG1ewSk6HS4odm47Tv7_4eMohXcJAg=s64",
      "userId": "07729187777678404563"
     },
     "user_tz": 300
    },
    "id": "81aiTpefoSHR",
    "outputId": "12987992-78ef-4648-ffac-0ebc013799a7"
   },
   "outputs": [
    {
     "name": "stdout",
     "output_type": "stream",
     "text": [
      "Training set Size:  50000\n",
      "Testing set size:  10000\n"
     ]
    }
   ],
   "source": [
    "print(\"Training set Size: \", x_train.shape[0])\n",
    "print(\"Testing set size: \", x_test.shape[0])"
   ]
  },
  {
   "cell_type": "code",
   "execution_count": null,
   "id": "08a381f6",
   "metadata": {
    "id": "08a381f6"
   },
   "outputs": [],
   "source": [
    "# Normalize pixel values to be between 0 and 1\n",
    "x_train = x_train.astype('float32')\n",
    "x_test = x_test.astype('float32')\n",
    "x_train, x_test = x_train / 255.0, x_test / 255.0"
   ]
  },
  {
   "cell_type": "code",
   "execution_count": null,
   "id": "6f09dbc7",
   "metadata": {
    "id": "6f09dbc7"
   },
   "outputs": [],
   "source": [
    "y_train = keras.utils.to_categorical(y_train, 10)\n",
    "y_test = keras.utils.to_categorical(y_test, 10)"
   ]
  },
  {
   "cell_type": "code",
   "execution_count": null,
   "id": "5423c9f3",
   "metadata": {
    "id": "5423c9f3"
   },
   "outputs": [],
   "source": [
    "model = models.Sequential()\n",
    "model.add(layers.Conv2D(32, (5, 5), activation='relu', \n",
    "                        input_shape=(32, 32, 3)))\n",
    "model.add(layers.BatchNormalization())\n",
    "model.add(layers.MaxPooling2D((2, 2)))\n",
    "model.add(layers.Conv2D(64, (3, 3), activation='relu'))\n",
    "model.add(layers.BatchNormalization())\n",
    "model.add(layers.MaxPooling2D((2, 2)))\n",
    "model.add(layers.Flatten())\n",
    "model.add(layers.Dense(512,activation='relu'))\n",
    "model.add(layers.BatchNormalization())\n",
    "model.add(layers.Dense(10,activation='softmax'))"
   ]
  },
  {
   "cell_type": "code",
   "execution_count": null,
   "id": "eef0fc7c",
   "metadata": {
    "colab": {
     "base_uri": "https://localhost:8080/"
    },
    "executionInfo": {
     "elapsed": 10,
     "status": "ok",
     "timestamp": 1632277430747,
     "user": {
      "displayName": "Lokesh Das",
      "photoUrl": "https://lh3.googleusercontent.com/a-/AOh14Gjw3b60ubMiSG1ewSk6HS4odm47Tv7_4eMohXcJAg=s64",
      "userId": "07729187777678404563"
     },
     "user_tz": 300
    },
    "id": "eef0fc7c",
    "outputId": "e6227543-a123-4687-c735-2fda9a0faca0"
   },
   "outputs": [
    {
     "name": "stdout",
     "output_type": "stream",
     "text": [
      "Model: \"sequential_4\"\n",
      "_________________________________________________________________\n",
      "Layer (type)                 Output Shape              Param #   \n",
      "=================================================================\n",
      "conv2d_8 (Conv2D)            (None, 28, 28, 32)        2432      \n",
      "_________________________________________________________________\n",
      "batch_normalization_12 (Batc (None, 28, 28, 32)        128       \n",
      "_________________________________________________________________\n",
      "max_pooling2d_8 (MaxPooling2 (None, 14, 14, 32)        0         \n",
      "_________________________________________________________________\n",
      "conv2d_9 (Conv2D)            (None, 12, 12, 64)        18496     \n",
      "_________________________________________________________________\n",
      "batch_normalization_13 (Batc (None, 12, 12, 64)        256       \n",
      "_________________________________________________________________\n",
      "max_pooling2d_9 (MaxPooling2 (None, 6, 6, 64)          0         \n",
      "_________________________________________________________________\n",
      "flatten_4 (Flatten)          (None, 2304)              0         \n",
      "_________________________________________________________________\n",
      "dense_8 (Dense)              (None, 512)               1180160   \n",
      "_________________________________________________________________\n",
      "batch_normalization_14 (Batc (None, 512)               2048      \n",
      "_________________________________________________________________\n",
      "dense_9 (Dense)              (None, 10)                5130      \n",
      "=================================================================\n",
      "Total params: 1,208,650\n",
      "Trainable params: 1,207,434\n",
      "Non-trainable params: 1,216\n",
      "_________________________________________________________________\n"
     ]
    }
   ],
   "source": [
    "model.summary()"
   ]
  },
  {
   "cell_type": "code",
   "execution_count": null,
   "id": "d861eadf",
   "metadata": {
    "id": "d861eadf"
   },
   "outputs": [],
   "source": [
    "model.compile(loss=tf.keras.losses.categorical_crossentropy, optimizer=keras.optimizers.SGD(learning_rate=0.0001,momentum=0.9)\n",
    "             ,metrics=['accuracy'])"
   ]
  },
  {
   "cell_type": "markdown",
   "id": "tEK7mV1x9CRD",
   "metadata": {
    "id": "tEK7mV1x9CRD"
   },
   "source": [
    "# Training Log"
   ]
  },
  {
   "cell_type": "code",
   "execution_count": null,
   "id": "c4a54f94",
   "metadata": {
    "colab": {
     "base_uri": "https://localhost:8080/"
    },
    "executionInfo": {
     "elapsed": 427838,
     "status": "ok",
     "timestamp": 1632277862820,
     "user": {
      "displayName": "Lokesh Das",
      "photoUrl": "https://lh3.googleusercontent.com/a-/AOh14Gjw3b60ubMiSG1ewSk6HS4odm47Tv7_4eMohXcJAg=s64",
      "userId": "07729187777678404563"
     },
     "user_tz": 300
    },
    "id": "c4a54f94",
    "outputId": "296ae725-2dff-4b31-b98c-f64781d4f0f0"
   },
   "outputs": [
    {
     "name": "stdout",
     "output_type": "stream",
     "text": [
      "Epoch 1/100\n",
      "1407/1407 - 5s - loss: 1.7940 - accuracy: 0.3813 - val_loss: 1.5301 - val_accuracy: 0.4730\n",
      "Epoch 2/100\n",
      "1407/1407 - 4s - loss: 1.4402 - accuracy: 0.4972 - val_loss: 1.4173 - val_accuracy: 0.4982\n",
      "Epoch 3/100\n",
      "1407/1407 - 4s - loss: 1.3052 - accuracy: 0.5441 - val_loss: 1.3169 - val_accuracy: 0.5364\n",
      "Epoch 4/100\n",
      "1407/1407 - 4s - loss: 1.2188 - accuracy: 0.5762 - val_loss: 1.2902 - val_accuracy: 0.5526\n",
      "Epoch 5/100\n",
      "1407/1407 - 4s - loss: 1.1567 - accuracy: 0.6009 - val_loss: 1.2058 - val_accuracy: 0.5698\n",
      "Epoch 6/100\n",
      "1407/1407 - 4s - loss: 1.0973 - accuracy: 0.6212 - val_loss: 1.2066 - val_accuracy: 0.5734\n",
      "Epoch 7/100\n",
      "1407/1407 - 4s - loss: 1.0473 - accuracy: 0.6384 - val_loss: 1.1014 - val_accuracy: 0.6224\n",
      "Epoch 8/100\n",
      "1407/1407 - 4s - loss: 1.0074 - accuracy: 0.6532 - val_loss: 1.3393 - val_accuracy: 0.5414\n",
      "Epoch 9/100\n",
      "1407/1407 - 4s - loss: 0.9726 - accuracy: 0.6628 - val_loss: 1.1617 - val_accuracy: 0.6012\n",
      "Epoch 10/100\n",
      "1407/1407 - 4s - loss: 0.9375 - accuracy: 0.6780 - val_loss: 1.0854 - val_accuracy: 0.6302\n",
      "Epoch 11/100\n",
      "1407/1407 - 4s - loss: 0.9060 - accuracy: 0.6897 - val_loss: 1.2845 - val_accuracy: 0.5730\n",
      "Epoch 12/100\n",
      "1407/1407 - 4s - loss: 0.8813 - accuracy: 0.6983 - val_loss: 1.0312 - val_accuracy: 0.6422\n",
      "Epoch 13/100\n",
      "1407/1407 - 4s - loss: 0.8560 - accuracy: 0.7056 - val_loss: 1.2571 - val_accuracy: 0.5828\n",
      "Epoch 14/100\n",
      "1407/1407 - 4s - loss: 0.8306 - accuracy: 0.7178 - val_loss: 1.3060 - val_accuracy: 0.5596\n",
      "Epoch 15/100\n",
      "1407/1407 - 4s - loss: 0.8082 - accuracy: 0.7257 - val_loss: 1.0222 - val_accuracy: 0.6494\n",
      "Epoch 16/100\n",
      "1407/1407 - 4s - loss: 0.7872 - accuracy: 0.7312 - val_loss: 0.9988 - val_accuracy: 0.6574\n",
      "Epoch 17/100\n",
      "1407/1407 - 4s - loss: 0.7629 - accuracy: 0.7394 - val_loss: 1.0638 - val_accuracy: 0.6404\n",
      "Epoch 18/100\n",
      "1407/1407 - 4s - loss: 0.7443 - accuracy: 0.7470 - val_loss: 0.9118 - val_accuracy: 0.6930\n",
      "Epoch 19/100\n",
      "1407/1407 - 4s - loss: 0.7252 - accuracy: 0.7520 - val_loss: 1.4452 - val_accuracy: 0.5652\n",
      "Epoch 20/100\n",
      "1407/1407 - 4s - loss: 0.7057 - accuracy: 0.7618 - val_loss: 0.9381 - val_accuracy: 0.6724\n",
      "Epoch 21/100\n",
      "1407/1407 - 4s - loss: 0.6879 - accuracy: 0.7677 - val_loss: 0.9602 - val_accuracy: 0.6802\n",
      "Epoch 22/100\n",
      "1407/1407 - 4s - loss: 0.6715 - accuracy: 0.7741 - val_loss: 0.9804 - val_accuracy: 0.6694\n",
      "Epoch 23/100\n",
      "1407/1407 - 4s - loss: 0.6548 - accuracy: 0.7805 - val_loss: 0.8880 - val_accuracy: 0.6896\n",
      "Epoch 24/100\n",
      "1407/1407 - 4s - loss: 0.6382 - accuracy: 0.7880 - val_loss: 0.9454 - val_accuracy: 0.6718\n",
      "Epoch 25/100\n",
      "1407/1407 - 4s - loss: 0.6215 - accuracy: 0.7936 - val_loss: 0.9918 - val_accuracy: 0.6610\n",
      "Epoch 26/100\n",
      "1407/1407 - 4s - loss: 0.6040 - accuracy: 0.7996 - val_loss: 0.9626 - val_accuracy: 0.6766\n",
      "Epoch 27/100\n",
      "1407/1407 - 4s - loss: 0.5888 - accuracy: 0.8064 - val_loss: 1.0360 - val_accuracy: 0.6482\n",
      "Epoch 28/100\n",
      "1407/1407 - 4s - loss: 0.5723 - accuracy: 0.8109 - val_loss: 0.9214 - val_accuracy: 0.6820\n",
      "Epoch 29/100\n",
      "1407/1407 - 4s - loss: 0.5589 - accuracy: 0.8152 - val_loss: 0.9851 - val_accuracy: 0.6656\n",
      "Epoch 30/100\n",
      "1407/1407 - 4s - loss: 0.5439 - accuracy: 0.8232 - val_loss: 1.0085 - val_accuracy: 0.6576\n",
      "Epoch 31/100\n",
      "1407/1407 - 4s - loss: 0.5273 - accuracy: 0.8303 - val_loss: 0.9860 - val_accuracy: 0.6700\n",
      "Epoch 32/100\n",
      "1407/1407 - 4s - loss: 0.5109 - accuracy: 0.8346 - val_loss: 1.0088 - val_accuracy: 0.6718\n",
      "Epoch 33/100\n",
      "1407/1407 - 4s - loss: 0.4982 - accuracy: 0.8393 - val_loss: 1.0695 - val_accuracy: 0.6504\n",
      "Epoch 34/100\n",
      "1407/1407 - 4s - loss: 0.4868 - accuracy: 0.8426 - val_loss: 1.0101 - val_accuracy: 0.6642\n",
      "Epoch 35/100\n",
      "1407/1407 - 4s - loss: 0.4738 - accuracy: 0.8488 - val_loss: 0.8896 - val_accuracy: 0.6994\n",
      "Epoch 36/100\n",
      "1407/1407 - 4s - loss: 0.4603 - accuracy: 0.8542 - val_loss: 0.9061 - val_accuracy: 0.6954\n",
      "Epoch 37/100\n",
      "1407/1407 - 4s - loss: 0.4492 - accuracy: 0.8559 - val_loss: 0.9943 - val_accuracy: 0.6746\n",
      "Epoch 38/100\n",
      "1407/1407 - 4s - loss: 0.4381 - accuracy: 0.8610 - val_loss: 0.9402 - val_accuracy: 0.6836\n",
      "Epoch 39/100\n",
      "1407/1407 - 4s - loss: 0.4229 - accuracy: 0.8689 - val_loss: 0.9624 - val_accuracy: 0.6820\n",
      "Epoch 40/100\n",
      "1407/1407 - 4s - loss: 0.4068 - accuracy: 0.8750 - val_loss: 0.9715 - val_accuracy: 0.6778\n",
      "Epoch 41/100\n",
      "1407/1407 - 4s - loss: 0.3987 - accuracy: 0.8762 - val_loss: 0.9286 - val_accuracy: 0.6936\n",
      "Epoch 42/100\n",
      "1407/1407 - 4s - loss: 0.3856 - accuracy: 0.8827 - val_loss: 0.9754 - val_accuracy: 0.6800\n",
      "Epoch 43/100\n",
      "1407/1407 - 4s - loss: 0.3766 - accuracy: 0.8851 - val_loss: 0.9002 - val_accuracy: 0.7068\n",
      "Epoch 44/100\n",
      "1407/1407 - 4s - loss: 0.3640 - accuracy: 0.8910 - val_loss: 0.9369 - val_accuracy: 0.6910\n",
      "Epoch 45/100\n",
      "1407/1407 - 4s - loss: 0.3526 - accuracy: 0.8949 - val_loss: 1.1056 - val_accuracy: 0.6552\n",
      "Epoch 46/100\n",
      "1407/1407 - 4s - loss: 0.3397 - accuracy: 0.8987 - val_loss: 1.0028 - val_accuracy: 0.6790\n",
      "Epoch 47/100\n",
      "1407/1407 - 4s - loss: 0.3288 - accuracy: 0.9043 - val_loss: 0.9063 - val_accuracy: 0.7016\n",
      "Epoch 48/100\n",
      "1407/1407 - 4s - loss: 0.3203 - accuracy: 0.9088 - val_loss: 1.0541 - val_accuracy: 0.6740\n",
      "Epoch 49/100\n",
      "1407/1407 - 4s - loss: 0.3113 - accuracy: 0.9095 - val_loss: 0.9928 - val_accuracy: 0.6856\n",
      "Epoch 50/100\n",
      "1407/1407 - 4s - loss: 0.3024 - accuracy: 0.9127 - val_loss: 0.9474 - val_accuracy: 0.6896\n",
      "Epoch 51/100\n",
      "1407/1407 - 4s - loss: 0.2907 - accuracy: 0.9176 - val_loss: 1.0548 - val_accuracy: 0.6736\n",
      "Epoch 52/100\n",
      "1407/1407 - 4s - loss: 0.2825 - accuracy: 0.9211 - val_loss: 1.0455 - val_accuracy: 0.6782\n",
      "Epoch 53/100\n",
      "1407/1407 - 4s - loss: 0.2741 - accuracy: 0.9234 - val_loss: 0.9303 - val_accuracy: 0.7076\n",
      "Epoch 54/100\n",
      "1407/1407 - 4s - loss: 0.2637 - accuracy: 0.9272 - val_loss: 0.9739 - val_accuracy: 0.6952\n",
      "Epoch 55/100\n",
      "1407/1407 - 4s - loss: 0.2595 - accuracy: 0.9299 - val_loss: 0.9531 - val_accuracy: 0.7024\n",
      "Epoch 56/100\n",
      "1407/1407 - 4s - loss: 0.2473 - accuracy: 0.9353 - val_loss: 0.9943 - val_accuracy: 0.6956\n",
      "Epoch 57/100\n",
      "1407/1407 - 4s - loss: 0.2406 - accuracy: 0.9372 - val_loss: 1.0956 - val_accuracy: 0.6622\n",
      "Epoch 58/100\n",
      "1407/1407 - 4s - loss: 0.2348 - accuracy: 0.9384 - val_loss: 1.0007 - val_accuracy: 0.6908\n",
      "Epoch 59/100\n",
      "1407/1407 - 4s - loss: 0.2263 - accuracy: 0.9417 - val_loss: 0.9921 - val_accuracy: 0.6904\n",
      "Epoch 60/100\n",
      "1407/1407 - 4s - loss: 0.2213 - accuracy: 0.9430 - val_loss: 0.9710 - val_accuracy: 0.6956\n",
      "Epoch 61/100\n",
      "1407/1407 - 4s - loss: 0.2135 - accuracy: 0.9465 - val_loss: 0.9822 - val_accuracy: 0.6908\n",
      "Epoch 62/100\n",
      "1407/1407 - 4s - loss: 0.2080 - accuracy: 0.9495 - val_loss: 0.9367 - val_accuracy: 0.7074\n",
      "Epoch 63/100\n",
      "1407/1407 - 4s - loss: 0.1992 - accuracy: 0.9500 - val_loss: 1.0395 - val_accuracy: 0.6820\n",
      "Epoch 64/100\n",
      "1407/1407 - 4s - loss: 0.1982 - accuracy: 0.9531 - val_loss: 0.9998 - val_accuracy: 0.6948\n",
      "Epoch 65/100\n",
      "1407/1407 - 4s - loss: 0.1870 - accuracy: 0.9551 - val_loss: 0.9986 - val_accuracy: 0.6940\n",
      "Epoch 66/100\n",
      "1407/1407 - 4s - loss: 0.1860 - accuracy: 0.9558 - val_loss: 0.9977 - val_accuracy: 0.6946\n",
      "Epoch 67/100\n",
      "1407/1407 - 4s - loss: 0.1766 - accuracy: 0.9587 - val_loss: 0.9504 - val_accuracy: 0.7072\n",
      "Epoch 68/100\n",
      "1407/1407 - 4s - loss: 0.1688 - accuracy: 0.9620 - val_loss: 0.9957 - val_accuracy: 0.7020\n",
      "Epoch 69/100\n",
      "1407/1407 - 4s - loss: 0.1693 - accuracy: 0.9624 - val_loss: 1.0297 - val_accuracy: 0.6854\n",
      "Epoch 70/100\n",
      "1407/1407 - 4s - loss: 0.1613 - accuracy: 0.9643 - val_loss: 1.0133 - val_accuracy: 0.6994\n",
      "Epoch 71/100\n",
      "1407/1407 - 4s - loss: 0.1568 - accuracy: 0.9664 - val_loss: 1.0060 - val_accuracy: 0.6996\n",
      "Epoch 72/100\n",
      "1407/1407 - 4s - loss: 0.1529 - accuracy: 0.9672 - val_loss: 0.9788 - val_accuracy: 0.7046\n",
      "Epoch 73/100\n",
      "1407/1407 - 4s - loss: 0.1495 - accuracy: 0.9667 - val_loss: 1.0068 - val_accuracy: 0.7004\n",
      "Epoch 74/100\n",
      "1407/1407 - 4s - loss: 0.1410 - accuracy: 0.9704 - val_loss: 1.0028 - val_accuracy: 0.7018\n",
      "Epoch 75/100\n",
      "1407/1407 - 4s - loss: 0.1393 - accuracy: 0.9714 - val_loss: 1.0046 - val_accuracy: 0.7040\n",
      "Epoch 76/100\n",
      "1407/1407 - 4s - loss: 0.1359 - accuracy: 0.9721 - val_loss: 1.0308 - val_accuracy: 0.6938\n",
      "Epoch 77/100\n",
      "1407/1407 - 4s - loss: 0.1316 - accuracy: 0.9738 - val_loss: 1.0306 - val_accuracy: 0.6962\n",
      "Epoch 78/100\n",
      "1407/1407 - 4s - loss: 0.1287 - accuracy: 0.9741 - val_loss: 1.0704 - val_accuracy: 0.6896\n",
      "Epoch 79/100\n",
      "1407/1407 - 4s - loss: 0.1236 - accuracy: 0.9757 - val_loss: 1.0227 - val_accuracy: 0.7060\n",
      "Epoch 80/100\n",
      "1407/1407 - 4s - loss: 0.1220 - accuracy: 0.9757 - val_loss: 1.0526 - val_accuracy: 0.6924\n",
      "Epoch 81/100\n",
      "1407/1407 - 4s - loss: 0.1210 - accuracy: 0.9759 - val_loss: 1.1578 - val_accuracy: 0.6836\n",
      "Epoch 82/100\n",
      "1407/1407 - 4s - loss: 0.1147 - accuracy: 0.9783 - val_loss: 1.0105 - val_accuracy: 0.7054\n",
      "Epoch 83/100\n",
      "1407/1407 - 4s - loss: 0.1126 - accuracy: 0.9796 - val_loss: 1.0923 - val_accuracy: 0.6882\n",
      "Epoch 84/100\n",
      "1407/1407 - 4s - loss: 0.1098 - accuracy: 0.9798 - val_loss: 1.0865 - val_accuracy: 0.6894\n",
      "Epoch 85/100\n",
      "1407/1407 - 4s - loss: 0.1064 - accuracy: 0.9804 - val_loss: 1.0531 - val_accuracy: 0.6960\n",
      "Epoch 86/100\n",
      "1407/1407 - 4s - loss: 0.1036 - accuracy: 0.9806 - val_loss: 1.0304 - val_accuracy: 0.7004\n",
      "Epoch 87/100\n",
      "1407/1407 - 4s - loss: 0.1020 - accuracy: 0.9820 - val_loss: 1.0743 - val_accuracy: 0.6914\n",
      "Epoch 88/100\n",
      "1407/1407 - 4s - loss: 0.0975 - accuracy: 0.9826 - val_loss: 1.1229 - val_accuracy: 0.6838\n",
      "Epoch 89/100\n",
      "1407/1407 - 4s - loss: 0.0973 - accuracy: 0.9823 - val_loss: 1.1003 - val_accuracy: 0.6900\n",
      "Epoch 90/100\n",
      "1407/1407 - 4s - loss: 0.0939 - accuracy: 0.9847 - val_loss: 1.0346 - val_accuracy: 0.7038\n",
      "Epoch 91/100\n",
      "1407/1407 - 4s - loss: 0.0931 - accuracy: 0.9837 - val_loss: 1.1285 - val_accuracy: 0.6838\n",
      "Epoch 92/100\n",
      "1407/1407 - 4s - loss: 0.0897 - accuracy: 0.9848 - val_loss: 1.0789 - val_accuracy: 0.6946\n",
      "Epoch 93/100\n",
      "1407/1407 - 4s - loss: 0.0865 - accuracy: 0.9863 - val_loss: 1.0514 - val_accuracy: 0.6996\n",
      "Epoch 94/100\n",
      "1407/1407 - 4s - loss: 0.0845 - accuracy: 0.9864 - val_loss: 1.1131 - val_accuracy: 0.6902\n",
      "Epoch 95/100\n",
      "1407/1407 - 4s - loss: 0.0828 - accuracy: 0.9871 - val_loss: 1.0390 - val_accuracy: 0.7060\n",
      "Epoch 96/100\n",
      "1407/1407 - 4s - loss: 0.0813 - accuracy: 0.9875 - val_loss: 1.0629 - val_accuracy: 0.7062\n",
      "Epoch 97/100\n",
      "1407/1407 - 4s - loss: 0.0785 - accuracy: 0.9878 - val_loss: 1.1101 - val_accuracy: 0.6920\n",
      "Epoch 98/100\n",
      "1407/1407 - 4s - loss: 0.0764 - accuracy: 0.9881 - val_loss: 1.1062 - val_accuracy: 0.7018\n",
      "Epoch 99/100\n",
      "1407/1407 - 4s - loss: 0.0801 - accuracy: 0.9877 - val_loss: 1.0763 - val_accuracy: 0.7050\n",
      "Epoch 100/100\n",
      "1407/1407 - 4s - loss: 0.0741 - accuracy: 0.9888 - val_loss: 1.0955 - val_accuracy: 0.6982\n"
     ]
    }
   ],
   "source": [
    "history = model.fit(x_train, y_train,\n",
    "          batch_size=32,\n",
    "          epochs=100,\n",
    "          verbose=2,shuffle=True,validation_split=0.1)"
   ]
  },
  {
   "cell_type": "code",
   "execution_count": null,
   "id": "L-JnPYrN9vqT",
   "metadata": {
    "colab": {
     "base_uri": "https://localhost:8080/"
    },
    "executionInfo": {
     "elapsed": 1057,
     "status": "ok",
     "timestamp": 1632278161250,
     "user": {
      "displayName": "Lokesh Das",
      "photoUrl": "https://lh3.googleusercontent.com/a-/AOh14Gjw3b60ubMiSG1ewSk6HS4odm47Tv7_4eMohXcJAg=s64",
      "userId": "07729187777678404563"
     },
     "user_tz": 300
    },
    "id": "L-JnPYrN9vqT",
    "outputId": "0c08c8bb-d7f8-4e7f-840d-9322b9415fd7"
   },
   "outputs": [
    {
     "name": "stdout",
     "output_type": "stream",
     "text": [
      "313/313 [==============================] - 1s 2ms/step - loss: 1.1936 - accuracy: 0.6875\n"
     ]
    }
   ],
   "source": [
    "prediction = model.evaluate(x_test,y_test)"
   ]
  },
  {
   "cell_type": "code",
   "execution_count": null,
   "id": "shU4RVfjKA8T",
   "metadata": {
    "colab": {
     "base_uri": "https://localhost:8080/"
    },
    "executionInfo": {
     "elapsed": 140,
     "status": "ok",
     "timestamp": 1632278165096,
     "user": {
      "displayName": "Lokesh Das",
      "photoUrl": "https://lh3.googleusercontent.com/a-/AOh14Gjw3b60ubMiSG1ewSk6HS4odm47Tv7_4eMohXcJAg=s64",
      "userId": "07729187777678404563"
     },
     "user_tz": 300
    },
    "id": "shU4RVfjKA8T",
    "outputId": "a335be56-8c8b-4d98-85be-bfe62dcda2f9"
   },
   "outputs": [
    {
     "name": "stdout",
     "output_type": "stream",
     "text": [
      "Testing accuracy:  68.75 %\n",
      "Testing Loss:  1.19\n"
     ]
    }
   ],
   "source": [
    "print(\"Testing accuracy: \",np.around(prediction[1]*100, decimals=2),\"%\")\n",
    "print(\"Testing Loss: \",np.around(prediction[0],decimals=2))"
   ]
  },
  {
   "cell_type": "code",
   "execution_count": null,
   "id": "fbd857e1",
   "metadata": {
    "colab": {
     "base_uri": "https://localhost:8080/",
     "height": 573
    },
    "executionInfo": {
     "elapsed": 660,
     "status": "ok",
     "timestamp": 1632278168525,
     "user": {
      "displayName": "Lokesh Das",
      "photoUrl": "https://lh3.googleusercontent.com/a-/AOh14Gjw3b60ubMiSG1ewSk6HS4odm47Tv7_4eMohXcJAg=s64",
      "userId": "07729187777678404563"
     },
     "user_tz": 300
    },
    "id": "fbd857e1",
    "outputId": "895f8c21-5d31-4f7a-cb47-e21117ba3182"
   },
   "outputs": [
    {
     "data": {
      "image/png": "[encoded data removed]",
      "text/plain": [
       "<Figure size 432x288 with 1 Axes>"
      ]
     },
     "metadata": {},
     "output_type": "display_data"
    },
    {
     "data": {
      "image/png": "[encoded data removed]",
      "text/plain": [
       "<Figure size 432x288 with 1 Axes>"
      ]
     },
     "metadata": {},
     "output_type": "display_data"
    }
   ],
   "source": [
    "\n",
    "plt.plot(history.history['accuracy'], label='accuracy')\n",
    "plt.plot(history.history['val_accuracy'], label = 'val_accuracy')\n",
    "plt.xlabel('Epoch')\n",
    "plt.ylabel('Accuracy')\n",
    "plt.legend(loc='lower right')\n",
    "plt.title(\"Model Accuracy\")\n",
    "plt.show()\n",
    "plt.plot(history.history['loss'],'r', label='loss')\n",
    "plt.plot(history.history['val_loss'],'c', label = 'val_loss')\n",
    "plt.xlabel('Epoch')\n",
    "plt.ylabel('Loss')\n",
    "plt.legend(loc='upper right')\n",
    "plt.title('Model Loss')\n",
    "plt.savefig('model_1_loss.png',format='png')\n",
    "plt.show()"
   ]
  },
  {
   "cell_type": "markdown",
   "id": "ftOS7yeILeRn",
   "metadata": {
    "id": "ftOS7yeILeRn"
   },
   "source": [
    "**Computational Complexity**\n",
    "\n",
    "In this experiment, the batch size is 32 and then number of training example is around 50k. For the above network architecture, the algorithm takes **4s** to finish a single epoch in **google colab pro with GPU** and total number of epochs is 100. So, the total training time for the dataset would be roughly **400s**. "
   ]
  },
  {
   "cell_type": "markdown",
   "id": "9qSMJg93MwFq",
   "metadata": {
    "id": "9qSMJg93MwFq"
   },
   "source": [
    "**Discussion**\n",
    "\n",
    "From the training and testing results, it is clear that the model is suffering from **overfitting** issues. One probable reason might be less number of data for this neural network configuration.This model does not perform well on unseen dataset. The model learning is slow because of very small learning rate **(lr= 0.0001)** and test accuray for this model around **69%**. In order to evaluate the model during training, I have used some portion of training data, i.e, 10% as a validation data as it is not recommended to use test set as validation set. The overfitting issue can be overcome in various ways such as by regularization, batchNormalization, dropout, data augmentation. "
   ]
  },
  {
   "cell_type": "markdown",
   "id": "nsPT3zW8coA8",
   "metadata": {
    "id": "nsPT3zW8coA8"
   },
   "source": [
    "**Problem 2:**"
   ]
  },
  {
   "cell_type": "code",
   "execution_count": null,
   "id": "LPMRHWiSc4oA",
   "metadata": {
    "id": "LPMRHWiSc4oA"
   },
   "outputs": [],
   "source": [
    "import tensorflow as tf\n",
    "import numpy as np\n",
    "import pandas as pd\n",
    "from tensorflow import keras\n",
    "from matplotlib import pyplot as plt\n",
    "from tensorflow.keras.datasets import cifar10\n",
    "from tensorflow.keras.utils import to_categorical\n",
    "from tensorflow.keras.models import Sequential\n",
    "from tensorflow.keras.layers import Conv2D,MaxPooling2D, Dense,Flatten,Dropout, BatchNormalization,Activation\n",
    "from tensorflow.keras.optimizers import SGD, Adam, RMSprop\n",
    "from tensorflow.keras.preprocessing.image import ImageDataGenerator\n",
    "import os\n",
    "import cv2"
   ]
  },
  {
   "cell_type": "code",
   "execution_count": null,
   "id": "jRbs9U1Xc_DG",
   "metadata": {
    "colab": {
     "base_uri": "https://localhost:8080/"
    },
    "executionInfo": {
     "elapsed": 21306,
     "status": "ok",
     "timestamp": 1632410304669,
     "user": {
      "displayName": "Lokesh Das",
      "photoUrl": "https://lh3.googleusercontent.com/a-/AOh14Gjw3b60ubMiSG1ewSk6HS4odm47Tv7_4eMohXcJAg=s64",
      "userId": "07729187777678404563"
     },
     "user_tz": 300
    },
    "id": "jRbs9U1Xc_DG",
    "outputId": "7baaa95d-e4e1-4c0f-f2d2-c1a070255ea0"
   },
   "outputs": [
    {
     "name": "stdout",
     "output_type": "stream",
     "text": [
      "Mounted at /content/drive\n"
     ]
    }
   ],
   "source": [
    "from google.colab import drive\n",
    "drive.mount('/content/drive')"
   ]
  },
  {
   "cell_type": "code",
   "execution_count": null,
   "id": "Ho8plcdrdK7K",
   "metadata": {
    "id": "Ho8plcdrdK7K"
   },
   "outputs": [],
   "source": [
    "DATASET_PATH = '/content/drive/MyDrive/Datasets/15-Scene/15-Scene/'\n",
    "directories = os.listdir(DATASET_PATH)\n",
    "ONE_HOT_ENCODED = np.eye(len(directories))\n",
    "FEATURES = []\n",
    "LABELS = []\n",
    "count = 0\n",
    "for category in sorted(directories):\n",
    "    path = DATASET_PATH+category\n",
    "    files = os.listdir(path)\n",
    "    for fileName in files:\n",
    "        imgPath = path+\"/\"+fileName\n",
    "        img = cv2.imread(imgPath)\n",
    "        img = cv2.resize(img, (32,32))\n",
    "        #img = np.reshape(img,[32,32,3])\n",
    "        FEATURES.append(img)\n",
    "        LABELS.append((np.reshape(ONE_HOT_ENCODED[int(category)], [15])))"
   ]
  },
  {
   "cell_type": "code",
   "execution_count": null,
   "id": "dhWLGYFWdR7p",
   "metadata": {
    "id": "dhWLGYFWdR7p"
   },
   "outputs": [],
   "source": [
    "# Randomly shuffle the datasets\n",
    "shuffle_indices = np.random.permutation(len(FEATURES))\n",
    "FEATURES = np.array(FEATURES)\n",
    "LABELS = np.array(LABELS)\n",
    "FEATURES = FEATURES[shuffle_indices]\n",
    "LABELS = LABELS[shuffle_indices]"
   ]
  },
  {
   "cell_type": "code",
   "execution_count": null,
   "id": "fESpMieajGNW",
   "metadata": {
    "colab": {
     "base_uri": "https://localhost:8080/"
    },
    "executionInfo": {
     "elapsed": 198,
     "status": "ok",
     "timestamp": 1632411773875,
     "user": {
      "displayName": "Lokesh Das",
      "photoUrl": "https://lh3.googleusercontent.com/a-/AOh14Gjw3b60ubMiSG1ewSk6HS4odm47Tv7_4eMohXcJAg=s64",
      "userId": "07729187777678404563"
     },
     "user_tz": 300
    },
    "id": "fESpMieajGNW",
    "outputId": "b0427e7b-7a03-4994-d9df-0b1fb4fb2a8a"
   },
   "outputs": [
    {
     "name": "stdout",
     "output_type": "stream",
     "text": [
      "(3139, 32, 32, 3)\n"
     ]
    }
   ],
   "source": [
    "TEST_PERCENTAGE = 0.3 # 30% for testing and 70% for training\n",
    "train_X = FEATURES[:int(len(FEATURES)*(1-TEST_PERCENTAGE))]\n",
    "train_y = LABELS[:int(len(LABELS)*(1-TEST_PERCENTAGE))]\n",
    "print(train_X.shape)"
   ]
  },
  {
   "cell_type": "code",
   "execution_count": null,
   "id": "t_wGfZLIjL4F",
   "metadata": {
    "colab": {
     "base_uri": "https://localhost:8080/"
    },
    "executionInfo": {
     "elapsed": 111,
     "status": "ok",
     "timestamp": 1632411775403,
     "user": {
      "displayName": "Lokesh Das",
      "photoUrl": "https://lh3.googleusercontent.com/a-/AOh14Gjw3b60ubMiSG1ewSk6HS4odm47Tv7_4eMohXcJAg=s64",
      "userId": "07729187777678404563"
     },
     "user_tz": 300
    },
    "id": "t_wGfZLIjL4F",
    "outputId": "75f81823-e3d9-4f81-bdfb-a62fa79c5b78"
   },
   "outputs": [
    {
     "name": "stdout",
     "output_type": "stream",
     "text": [
      "(1346, 32, 32, 3)\n"
     ]
    }
   ],
   "source": [
    "test_X = FEATURES[int(len(FEATURES)*(1-TEST_PERCENTAGE)):]\n",
    "test_y = LABELS[int(len(LABELS)*(1-TEST_PERCENTAGE)):]\n",
    "print(test_X.shape)"
   ]
  },
  {
   "cell_type": "code",
   "execution_count": null,
   "id": "xcCAE6UnjPnX",
   "metadata": {
    "id": "xcCAE6UnjPnX"
   },
   "outputs": [],
   "source": [
    "isAugmentation = True\n",
    "activation='elu'\n",
    "batch_size = 64\n",
    "epochs = 100\n",
    "num_classes = 15\n",
    "INI = tf.keras.initializers.GlorotUniform()\n",
    "SAVE_DIR = os.path.join(os.getcwd(),'models')\n",
    "MODEL_NAME='ASSIGNMENT_2_PART_2.h5'"
   ]
  },
  {
   "cell_type": "code",
   "execution_count": null,
   "id": "LvZqAIUqjUWs",
   "metadata": {
    "id": "LvZqAIUqjUWs"
   },
   "outputs": [],
   "source": [
    "train_X = train_X.astype('float32')\n",
    "train_y = train_y.astype('float32')\n",
    "test_X = test_X.astype('float32')\n",
    "test_y = test_y.astype('float32')\n",
    "train_X /= 255.0\n",
    "test_X /= 255.0"
   ]
  },
  {
   "cell_type": "code",
   "execution_count": null,
   "id": "f384f8b9",
   "metadata": {
    "id": "f384f8b9"
   },
   "outputs": [],
   "source": [
    "def dataAugmentation(isAugmentation=False):\n",
    "    if not isAugmentation:\n",
    "        return None\n",
    "    else:\n",
    "        dataGenerator =  ImageDataGenerator(\n",
    "        featurewise_center=False,  # set input mean to 0 over the dataset\n",
    "        samplewise_center=False,  # set each sample mean to 0\n",
    "        featurewise_std_normalization=False,  # divide inputs by std of the dataset\n",
    "        samplewise_std_normalization=False,  # divide each input by its std\n",
    "        zca_whitening=False,  # apply ZCA whitening\n",
    "        zca_epsilon=1e-06,  # epsilon for ZCA whitening\n",
    "        rotation_range=0,  # randomly rotate images in the range (degrees, 0 to 180)\n",
    "        # randomly shift images horizontally (fraction of total width)\n",
    "        width_shift_range=0.1,\n",
    "        # randomly shift images vertically (fraction of total height)\n",
    "        height_shift_range=0.1,\n",
    "        shear_range=0.,  # set range for random shear\n",
    "        zoom_range=0.,  # set range for random zoom\n",
    "        channel_shift_range=0.,  # set range for random channel shifts\n",
    "        # set mode for filling points outside the input boundaries\n",
    "        fill_mode='nearest',\n",
    "        cval=0.,  # value used for fill_mode = \"constant\"\n",
    "        horizontal_flip=True,  # randomly flip images\n",
    "        vertical_flip=False,  # randomly flip images\n",
    "        # set rescaling factor (applied before any other transformation)\n",
    "        rescale=None,\n",
    "        # set function that will be applied on each input\n",
    "        preprocessing_function=None,\n",
    "        # image data format, either \"channels_first\" or \"channels_last\"\n",
    "        data_format=None,\n",
    "        # fraction of images reserved for validation (strictly between 0 and 1)\n",
    "        validation_split=0.2)\n",
    "        return dataGenerator\n",
    "        "
   ]
  },
  {
   "cell_type": "code",
   "execution_count": null,
   "id": "MMLtOGPKyZ0V",
   "metadata": {
    "id": "MMLtOGPKyZ0V"
   },
   "outputs": [],
   "source": [
    "weight_decay = 1e-6\n",
    "model = Sequential()\n",
    "model.add(Conv2D(32, (3,3), padding='same', kernel_initializer=INI, kernel_regularizer=keras.regularizers.l2(weight_decay), input_shape=train_X.shape[1:]))\n",
    "model.add(Activation('elu'))\n",
    "model.add(BatchNormalization())\n",
    "model.add(Conv2D(32, (3,3), padding='same', kernel_initializer=INI, kernel_regularizer=keras.regularizers.l2(weight_decay)))\n",
    "model.add(Activation('elu'))\n",
    "model.add(BatchNormalization())\n",
    "model.add(MaxPooling2D(pool_size=(2,2)))\n",
    "model.add(Dropout(0.3))\n",
    "model.add(Conv2D(64, (3,3), padding='same', kernel_initializer=INI, kernel_regularizer=keras.regularizers.l2(weight_decay)))\n",
    "model.add(Activation('elu'))\n",
    "model.add(BatchNormalization())\n",
    "model.add(Conv2D(64, (3,3), padding='same', kernel_initializer=INI, kernel_regularizer=keras.regularizers.l2(weight_decay)))\n",
    "model.add(Activation('elu'))\n",
    "model.add(BatchNormalization())\n",
    "model.add(MaxPooling2D(pool_size=(2,2)))\n",
    "model.add(Dropout(0.3))\n",
    "model.add(Conv2D(128, (3,3), padding='same', kernel_initializer=INI, kernel_regularizer=keras.regularizers.l2(weight_decay)))\n",
    "model.add(Activation('elu'))\n",
    "model.add(BatchNormalization())\n",
    "model.add(Conv2D(128, (3,3), padding='same', kernel_initializer=INI, kernel_regularizer=keras.regularizers.l2(weight_decay)))\n",
    "model.add(Activation('elu'))\n",
    "model.add(BatchNormalization())\n",
    "model.add(MaxPooling2D(pool_size=(2,2)))\n",
    "model.add(Dropout(0.5))\n",
    "model.add(Flatten())\n",
    "model.add(Dense(num_classes, activation='softmax'))"
   ]
  },
  {
   "cell_type": "code",
   "execution_count": null,
   "id": "TAnEeoZOr3DA",
   "metadata": {
    "id": "TAnEeoZOr3DA"
   },
   "outputs": [],
   "source": [
    "dataGenerator = dataAugmentation(True)"
   ]
  },
  {
   "cell_type": "markdown",
   "id": "CSjN5WvRrbOI",
   "metadata": {
    "id": "CSjN5WvRrbOI"
   },
   "source": [
    "SGD Optimizer\n"
   ]
  },
  {
   "cell_type": "code",
   "execution_count": null,
   "id": "Vpf8tBfdrk1-",
   "metadata": {
    "id": "Vpf8tBfdrk1-"
   },
   "outputs": [],
   "source": [
    "optSGD = opt = tf.keras.optimizers.SGD(learning_rate=0.001,momentum=0.9,decay=1e-6)"
   ]
  },
  {
   "cell_type": "code",
   "execution_count": null,
   "id": "yDLfzuuPrxbd",
   "metadata": {
    "id": "yDLfzuuPrxbd"
   },
   "outputs": [],
   "source": [
    "model.compile(loss='categorical_crossentropy', optimizer=optSGD, metrics=['accuracy'])"
   ]
  },
  {
   "cell_type": "code",
   "execution_count": null,
   "id": "b_nBFdz9r7fB",
   "metadata": {
    "colab": {
     "base_uri": "https://localhost:8080/"
    },
    "executionInfo": {
     "elapsed": 241870,
     "status": "ok",
     "timestamp": 1632412860060,
     "user": {
      "displayName": "Lokesh Das",
      "photoUrl": "https://lh3.googleusercontent.com/a-/AOh14Gjw3b60ubMiSG1ewSk6HS4odm47Tv7_4eMohXcJAg=s64",
      "userId": "07729187777678404563"
     },
     "user_tz": 300
    },
    "id": "b_nBFdz9r7fB",
    "outputId": "e2df0dd9-de39-4de5-e742-dc65f103d687"
   },
   "outputs": [
    {
     "name": "stdout",
     "output_type": "stream",
     "text": [
      "Epoch 1/100\n",
      "50/50 [==============================] - 5s 69ms/step - loss: 4.1593 - accuracy: 0.1242 - val_loss: 2.8567 - val_accuracy: 0.1005\n",
      "Epoch 2/100\n",
      "50/50 [==============================] - 2s 47ms/step - loss: 3.3823 - accuracy: 0.2131 - val_loss: 4.2904 - val_accuracy: 0.1005\n",
      "Epoch 3/100\n",
      "50/50 [==============================] - 2s 47ms/step - loss: 2.9339 - accuracy: 0.2514 - val_loss: 5.5726 - val_accuracy: 0.1005\n",
      "Epoch 4/100\n",
      "50/50 [==============================] - 2s 47ms/step - loss: 2.8496 - accuracy: 0.2717 - val_loss: 7.1838 - val_accuracy: 0.0861\n",
      "Epoch 5/100\n",
      "50/50 [==============================] - 2s 47ms/step - loss: 2.5352 - accuracy: 0.3116 - val_loss: 7.6912 - val_accuracy: 0.0351\n",
      "Epoch 6/100\n",
      "50/50 [==============================] - 2s 47ms/step - loss: 2.4044 - accuracy: 0.3300 - val_loss: 6.7382 - val_accuracy: 0.1005\n",
      "Epoch 7/100\n",
      "50/50 [==============================] - 2s 47ms/step - loss: 2.2575 - accuracy: 0.3657 - val_loss: 8.5246 - val_accuracy: 0.1005\n",
      "Epoch 8/100\n",
      "50/50 [==============================] - 2s 47ms/step - loss: 2.1488 - accuracy: 0.3740 - val_loss: 7.7131 - val_accuracy: 0.0893\n",
      "Epoch 9/100\n",
      "50/50 [==============================] - 2s 47ms/step - loss: 2.1640 - accuracy: 0.3874 - val_loss: 6.9666 - val_accuracy: 0.1021\n",
      "Epoch 10/100\n",
      "50/50 [==============================] - 2s 47ms/step - loss: 2.0663 - accuracy: 0.3950 - val_loss: 6.4631 - val_accuracy: 0.1069\n",
      "Epoch 11/100\n",
      "50/50 [==============================] - 2s 47ms/step - loss: 1.9641 - accuracy: 0.4180 - val_loss: 6.8091 - val_accuracy: 0.0925\n",
      "Epoch 12/100\n",
      "50/50 [==============================] - 2s 47ms/step - loss: 1.9207 - accuracy: 0.4294 - val_loss: 7.5165 - val_accuracy: 0.1021\n",
      "Epoch 13/100\n",
      "50/50 [==============================] - 2s 47ms/step - loss: 1.8598 - accuracy: 0.4435 - val_loss: 6.0351 - val_accuracy: 0.1340\n",
      "Epoch 14/100\n",
      "50/50 [==============================] - 2s 47ms/step - loss: 1.8015 - accuracy: 0.4457 - val_loss: 4.5354 - val_accuracy: 0.1659\n",
      "Epoch 15/100\n",
      "50/50 [==============================] - 2s 49ms/step - loss: 1.7544 - accuracy: 0.4705 - val_loss: 4.0756 - val_accuracy: 0.1786\n",
      "Epoch 16/100\n",
      "50/50 [==============================] - 2s 47ms/step - loss: 1.7603 - accuracy: 0.4677 - val_loss: 5.9570 - val_accuracy: 0.2472\n",
      "Epoch 17/100\n",
      "50/50 [==============================] - 2s 47ms/step - loss: 1.6355 - accuracy: 0.4881 - val_loss: 2.3291 - val_accuracy: 0.3445\n",
      "Epoch 18/100\n",
      "50/50 [==============================] - 2s 47ms/step - loss: 1.6267 - accuracy: 0.5065 - val_loss: 8.3704 - val_accuracy: 0.1260\n",
      "Epoch 19/100\n",
      "50/50 [==============================] - 2s 47ms/step - loss: 1.5896 - accuracy: 0.5040 - val_loss: 5.9024 - val_accuracy: 0.2121\n",
      "Epoch 20/100\n",
      "50/50 [==============================] - 2s 46ms/step - loss: 1.5208 - accuracy: 0.5381 - val_loss: 6.3714 - val_accuracy: 0.1372\n",
      "Epoch 21/100\n",
      "50/50 [==============================] - 2s 47ms/step - loss: 1.5187 - accuracy: 0.5183 - val_loss: 3.4965 - val_accuracy: 0.2584\n",
      "Epoch 22/100\n",
      "50/50 [==============================] - 2s 46ms/step - loss: 1.5303 - accuracy: 0.5241 - val_loss: 2.1067 - val_accuracy: 0.4211\n",
      "Epoch 23/100\n",
      "50/50 [==============================] - 2s 47ms/step - loss: 1.4261 - accuracy: 0.5495 - val_loss: 3.5713 - val_accuracy: 0.3078\n",
      "Epoch 24/100\n",
      "50/50 [==============================] - 2s 47ms/step - loss: 1.4457 - accuracy: 0.5413 - val_loss: 10.3604 - val_accuracy: 0.0638\n",
      "Epoch 25/100\n",
      "50/50 [==============================] - 2s 47ms/step - loss: 1.4206 - accuracy: 0.5502 - val_loss: 5.5811 - val_accuracy: 0.1978\n",
      "Epoch 26/100\n",
      "50/50 [==============================] - 2s 47ms/step - loss: 1.4141 - accuracy: 0.5530 - val_loss: 2.5452 - val_accuracy: 0.3349\n",
      "Epoch 27/100\n",
      "50/50 [==============================] - 2s 47ms/step - loss: 1.3387 - accuracy: 0.5680 - val_loss: 3.3526 - val_accuracy: 0.2823\n",
      "Epoch 28/100\n",
      "50/50 [==============================] - 2s 47ms/step - loss: 1.3176 - accuracy: 0.5766 - val_loss: 9.3502 - val_accuracy: 0.1372\n",
      "Epoch 29/100\n",
      "50/50 [==============================] - 2s 47ms/step - loss: 1.3706 - accuracy: 0.5731 - val_loss: 7.0891 - val_accuracy: 0.1866\n",
      "Epoch 30/100\n",
      "50/50 [==============================] - 2s 47ms/step - loss: 1.2886 - accuracy: 0.5859 - val_loss: 8.4283 - val_accuracy: 0.1946\n",
      "Epoch 31/100\n",
      "50/50 [==============================] - 2s 47ms/step - loss: 1.3319 - accuracy: 0.5712 - val_loss: 2.4985 - val_accuracy: 0.3477\n",
      "Epoch 32/100\n",
      "50/50 [==============================] - 3s 54ms/step - loss: 1.3154 - accuracy: 0.5734 - val_loss: 3.7253 - val_accuracy: 0.2552\n",
      "Epoch 33/100\n",
      "50/50 [==============================] - 3s 58ms/step - loss: 1.2829 - accuracy: 0.5884 - val_loss: 1.4390 - val_accuracy: 0.5040\n",
      "Epoch 34/100\n",
      "50/50 [==============================] - 2s 47ms/step - loss: 1.2346 - accuracy: 0.6024 - val_loss: 1.9068 - val_accuracy: 0.4290\n",
      "Epoch 35/100\n",
      "50/50 [==============================] - 2s 46ms/step - loss: 1.2425 - accuracy: 0.5925 - val_loss: 1.3935 - val_accuracy: 0.5534\n",
      "Epoch 36/100\n",
      "50/50 [==============================] - 2s 47ms/step - loss: 1.1868 - accuracy: 0.6078 - val_loss: 7.2345 - val_accuracy: 0.1228\n",
      "Epoch 37/100\n",
      "50/50 [==============================] - 2s 47ms/step - loss: 1.2439 - accuracy: 0.5960 - val_loss: 1.9932 - val_accuracy: 0.4450\n",
      "Epoch 38/100\n",
      "50/50 [==============================] - 2s 47ms/step - loss: 1.2506 - accuracy: 0.5919 - val_loss: 3.4763 - val_accuracy: 0.2871\n",
      "Epoch 39/100\n",
      "50/50 [==============================] - 2s 47ms/step - loss: 1.2458 - accuracy: 0.5967 - val_loss: 4.5935 - val_accuracy: 0.1850\n",
      "Epoch 40/100\n",
      "50/50 [==============================] - 2s 49ms/step - loss: 1.1968 - accuracy: 0.6037 - val_loss: 3.9036 - val_accuracy: 0.2392\n",
      "Epoch 41/100\n",
      "50/50 [==============================] - 2s 47ms/step - loss: 1.1600 - accuracy: 0.6193 - val_loss: 2.9218 - val_accuracy: 0.2887\n",
      "Epoch 42/100\n",
      "50/50 [==============================] - 3s 60ms/step - loss: 1.1297 - accuracy: 0.6279 - val_loss: 3.0759 - val_accuracy: 0.3349\n",
      "Epoch 43/100\n",
      "50/50 [==============================] - 3s 54ms/step - loss: 1.1681 - accuracy: 0.6234 - val_loss: 1.2263 - val_accuracy: 0.6188\n",
      "Epoch 44/100\n",
      "50/50 [==============================] - 2s 47ms/step - loss: 1.1153 - accuracy: 0.6225 - val_loss: 3.2003 - val_accuracy: 0.3110\n",
      "Epoch 45/100\n",
      "50/50 [==============================] - 2s 48ms/step - loss: 1.1620 - accuracy: 0.6228 - val_loss: 5.3967 - val_accuracy: 0.2026\n",
      "Epoch 46/100\n",
      "50/50 [==============================] - 2s 47ms/step - loss: 1.1497 - accuracy: 0.6238 - val_loss: 1.2691 - val_accuracy: 0.5917\n",
      "Epoch 47/100\n",
      "50/50 [==============================] - 2s 47ms/step - loss: 1.1303 - accuracy: 0.6231 - val_loss: 6.9524 - val_accuracy: 0.1483\n",
      "Epoch 48/100\n",
      "50/50 [==============================] - 2s 47ms/step - loss: 1.1480 - accuracy: 0.6219 - val_loss: 1.9844 - val_accuracy: 0.4769\n",
      "Epoch 49/100\n",
      "50/50 [==============================] - 2s 47ms/step - loss: 1.1185 - accuracy: 0.6247 - val_loss: 2.2809 - val_accuracy: 0.3860\n",
      "Epoch 50/100\n",
      "50/50 [==============================] - 2s 47ms/step - loss: 1.1482 - accuracy: 0.6199 - val_loss: 1.7886 - val_accuracy: 0.4944\n",
      "Epoch 51/100\n",
      "50/50 [==============================] - 2s 47ms/step - loss: 1.1027 - accuracy: 0.6375 - val_loss: 2.1656 - val_accuracy: 0.4370\n",
      "Epoch 52/100\n",
      "50/50 [==============================] - 2s 47ms/step - loss: 1.0890 - accuracy: 0.6340 - val_loss: 4.7885 - val_accuracy: 0.2376\n",
      "Epoch 53/100\n",
      "50/50 [==============================] - 2s 47ms/step - loss: 1.1042 - accuracy: 0.6270 - val_loss: 4.3193 - val_accuracy: 0.2153\n",
      "Epoch 54/100\n",
      "50/50 [==============================] - 2s 47ms/step - loss: 1.1062 - accuracy: 0.6343 - val_loss: 2.2833 - val_accuracy: 0.4625\n",
      "Epoch 55/100\n",
      "50/50 [==============================] - 2s 47ms/step - loss: 1.0714 - accuracy: 0.6429 - val_loss: 1.6879 - val_accuracy: 0.4737\n",
      "Epoch 56/100\n",
      "50/50 [==============================] - 2s 47ms/step - loss: 1.1158 - accuracy: 0.6324 - val_loss: 3.9160 - val_accuracy: 0.2344\n",
      "Epoch 57/100\n",
      "50/50 [==============================] - 2s 47ms/step - loss: 1.0548 - accuracy: 0.6445 - val_loss: 2.3369 - val_accuracy: 0.4099\n",
      "Epoch 58/100\n",
      "50/50 [==============================] - 2s 47ms/step - loss: 1.0925 - accuracy: 0.6400 - val_loss: 1.2365 - val_accuracy: 0.6045\n",
      "Epoch 59/100\n",
      "50/50 [==============================] - 2s 49ms/step - loss: 1.0576 - accuracy: 0.6489 - val_loss: 1.2291 - val_accuracy: 0.6300\n",
      "Epoch 60/100\n",
      "50/50 [==============================] - 2s 47ms/step - loss: 1.0288 - accuracy: 0.6534 - val_loss: 4.6615 - val_accuracy: 0.1946\n",
      "Epoch 61/100\n",
      "50/50 [==============================] - 2s 48ms/step - loss: 1.0456 - accuracy: 0.6508 - val_loss: 1.4304 - val_accuracy: 0.5646\n",
      "Epoch 62/100\n",
      "50/50 [==============================] - 2s 48ms/step - loss: 1.0691 - accuracy: 0.6381 - val_loss: 2.1279 - val_accuracy: 0.4322\n",
      "Epoch 63/100\n",
      "50/50 [==============================] - 2s 47ms/step - loss: 1.0454 - accuracy: 0.6508 - val_loss: 1.0103 - val_accuracy: 0.6539\n",
      "Epoch 64/100\n",
      "50/50 [==============================] - 2s 46ms/step - loss: 1.0128 - accuracy: 0.6601 - val_loss: 4.4943 - val_accuracy: 0.2089\n",
      "Epoch 65/100\n",
      "50/50 [==============================] - 2s 49ms/step - loss: 1.0722 - accuracy: 0.6461 - val_loss: 5.6471 - val_accuracy: 0.1324\n",
      "Epoch 66/100\n",
      "50/50 [==============================] - 2s 47ms/step - loss: 1.0017 - accuracy: 0.6633 - val_loss: 2.3146 - val_accuracy: 0.4242\n",
      "Epoch 67/100\n",
      "50/50 [==============================] - 2s 48ms/step - loss: 1.0100 - accuracy: 0.6594 - val_loss: 2.6073 - val_accuracy: 0.3860\n",
      "Epoch 68/100\n",
      "50/50 [==============================] - 2s 47ms/step - loss: 1.0307 - accuracy: 0.6547 - val_loss: 3.0298 - val_accuracy: 0.3971\n",
      "Epoch 69/100\n",
      "50/50 [==============================] - 2s 47ms/step - loss: 0.9918 - accuracy: 0.6614 - val_loss: 1.8493 - val_accuracy: 0.4769\n",
      "Epoch 70/100\n",
      "50/50 [==============================] - 2s 47ms/step - loss: 1.0237 - accuracy: 0.6518 - val_loss: 2.4656 - val_accuracy: 0.3620\n",
      "Epoch 71/100\n",
      "50/50 [==============================] - 2s 47ms/step - loss: 0.9867 - accuracy: 0.6741 - val_loss: 1.4060 - val_accuracy: 0.5789\n",
      "Epoch 72/100\n",
      "50/50 [==============================] - 2s 47ms/step - loss: 0.9736 - accuracy: 0.6696 - val_loss: 1.8193 - val_accuracy: 0.5375\n",
      "Epoch 73/100\n",
      "50/50 [==============================] - 2s 47ms/step - loss: 0.9987 - accuracy: 0.6703 - val_loss: 1.0293 - val_accuracy: 0.6715\n",
      "Epoch 74/100\n",
      "50/50 [==============================] - 2s 47ms/step - loss: 1.0431 - accuracy: 0.6508 - val_loss: 2.4471 - val_accuracy: 0.3987\n",
      "Epoch 75/100\n",
      "50/50 [==============================] - 2s 47ms/step - loss: 0.9286 - accuracy: 0.6875 - val_loss: 2.6093 - val_accuracy: 0.4242\n",
      "Epoch 76/100\n",
      "50/50 [==============================] - 2s 47ms/step - loss: 0.9703 - accuracy: 0.6766 - val_loss: 2.6582 - val_accuracy: 0.3764\n",
      "Epoch 77/100\n",
      "50/50 [==============================] - 2s 48ms/step - loss: 1.0214 - accuracy: 0.6604 - val_loss: 1.5611 - val_accuracy: 0.5455\n",
      "Epoch 78/100\n",
      "50/50 [==============================] - 2s 47ms/step - loss: 0.9567 - accuracy: 0.6833 - val_loss: 1.8822 - val_accuracy: 0.4753\n",
      "Epoch 79/100\n",
      "50/50 [==============================] - 2s 46ms/step - loss: 0.9380 - accuracy: 0.6811 - val_loss: 1.1254 - val_accuracy: 0.6443\n",
      "Epoch 80/100\n",
      "50/50 [==============================] - 2s 47ms/step - loss: 0.9924 - accuracy: 0.6649 - val_loss: 1.3965 - val_accuracy: 0.5550\n",
      "Epoch 81/100\n",
      "50/50 [==============================] - 2s 46ms/step - loss: 0.9531 - accuracy: 0.6849 - val_loss: 2.0307 - val_accuracy: 0.4848\n",
      "Epoch 82/100\n",
      "50/50 [==============================] - 2s 47ms/step - loss: 0.9498 - accuracy: 0.6862 - val_loss: 4.3563 - val_accuracy: 0.2951\n",
      "Epoch 83/100\n",
      "50/50 [==============================] - 2s 48ms/step - loss: 0.9542 - accuracy: 0.6700 - val_loss: 1.4439 - val_accuracy: 0.5949\n",
      "Epoch 84/100\n",
      "50/50 [==============================] - 2s 47ms/step - loss: 0.9742 - accuracy: 0.6760 - val_loss: 1.8901 - val_accuracy: 0.4354\n",
      "Epoch 85/100\n",
      "50/50 [==============================] - 2s 47ms/step - loss: 0.9126 - accuracy: 0.6951 - val_loss: 4.6557 - val_accuracy: 0.1946\n",
      "Epoch 86/100\n",
      "50/50 [==============================] - 2s 47ms/step - loss: 0.9856 - accuracy: 0.6735 - val_loss: 5.2733 - val_accuracy: 0.3285\n",
      "Epoch 87/100\n",
      "50/50 [==============================] - 2s 47ms/step - loss: 0.9280 - accuracy: 0.6786 - val_loss: 1.8630 - val_accuracy: 0.5040\n",
      "Epoch 88/100\n",
      "50/50 [==============================] - 2s 47ms/step - loss: 0.9166 - accuracy: 0.6939 - val_loss: 1.3759 - val_accuracy: 0.5630\n",
      "Epoch 89/100\n",
      "50/50 [==============================] - 2s 46ms/step - loss: 0.9384 - accuracy: 0.6789 - val_loss: 2.0613 - val_accuracy: 0.4434\n",
      "Epoch 90/100\n",
      "50/50 [==============================] - 2s 48ms/step - loss: 0.9188 - accuracy: 0.6939 - val_loss: 2.4844 - val_accuracy: 0.3509\n",
      "Epoch 91/100\n",
      "50/50 [==============================] - 2s 47ms/step - loss: 0.9301 - accuracy: 0.6875 - val_loss: 1.3424 - val_accuracy: 0.5662\n",
      "Epoch 92/100\n",
      "50/50 [==============================] - 2s 47ms/step - loss: 0.9250 - accuracy: 0.6868 - val_loss: 1.2939 - val_accuracy: 0.5965\n",
      "Epoch 93/100\n",
      "50/50 [==============================] - 2s 48ms/step - loss: 0.9463 - accuracy: 0.6840 - val_loss: 0.8769 - val_accuracy: 0.7113\n",
      "Epoch 94/100\n",
      "50/50 [==============================] - 2s 47ms/step - loss: 0.9189 - accuracy: 0.6986 - val_loss: 1.2644 - val_accuracy: 0.6204\n",
      "Epoch 95/100\n",
      "50/50 [==============================] - 2s 47ms/step - loss: 0.9291 - accuracy: 0.6853 - val_loss: 1.1977 - val_accuracy: 0.6555\n",
      "Epoch 96/100\n",
      "50/50 [==============================] - 2s 47ms/step - loss: 0.8811 - accuracy: 0.7005 - val_loss: 2.7779 - val_accuracy: 0.4418\n",
      "Epoch 97/100\n",
      "50/50 [==============================] - 2s 48ms/step - loss: 0.9535 - accuracy: 0.6782 - val_loss: 2.1838 - val_accuracy: 0.4625\n",
      "Epoch 98/100\n",
      "50/50 [==============================] - 2s 47ms/step - loss: 0.8932 - accuracy: 0.6954 - val_loss: 1.1148 - val_accuracy: 0.6539\n",
      "Epoch 99/100\n",
      "50/50 [==============================] - 2s 47ms/step - loss: 0.9901 - accuracy: 0.6636 - val_loss: 3.6146 - val_accuracy: 0.3285\n",
      "Epoch 100/100\n",
      "50/50 [==============================] - 2s 47ms/step - loss: 0.9373 - accuracy: 0.6926 - val_loss: 1.5729 - val_accuracy: 0.5359\n"
     ]
    }
   ],
   "source": [
    "if dataGenerator is not None:\n",
    "    dataGenerator.fit(train_X)\n",
    "    history = model.fit(dataGenerator.flow(train_X, train_y,\n",
    "                                     batch_size=batch_size), epochs=epochs,\n",
    "                        validation_data=dataGenerator.flow(train_X, train_y,\n",
    "                                     batch_size=8,subset='validation'))\n",
    "else:\n",
    "    history = model.fit(train_X,train_y, batch_size=batch_size,epochs=epochs,validation_data=(test_X,test_y))"
   ]
  },
  {
   "cell_type": "code",
   "execution_count": null,
   "id": "ng4GcPiptLrp",
   "metadata": {
    "colab": {
     "base_uri": "https://localhost:8080/"
    },
    "executionInfo": {
     "elapsed": 665,
     "status": "ok",
     "timestamp": 1632412863370,
     "user": {
      "displayName": "Lokesh Das",
      "photoUrl": "https://lh3.googleusercontent.com/a-/AOh14Gjw3b60ubMiSG1ewSk6HS4odm47Tv7_4eMohXcJAg=s64",
      "userId": "07729187777678404563"
     },
     "user_tz": 300
    },
    "id": "ng4GcPiptLrp",
    "outputId": "2a9d4d50-649b-44a9-9d8d-f9c596acfd39"
   },
   "outputs": [
    {
     "name": "stdout",
     "output_type": "stream",
     "text": [
      "43/43 [==============================] - 0s 5ms/step - loss: 1.8944 - accuracy: 0.4941\n",
      "Testing Accuracy:  49.41\n",
      "Testing Loss:  1.89\n"
     ]
    }
   ],
   "source": [
    "prediction = model.evaluate(test_X,test_y)\n",
    "print(\"Testing Accuracy: \", np.around(prediction[1]*100, decimals=2))\n",
    "print(\"Testing Loss: \", np.around(prediction[0],decimals=2))"
   ]
  },
  {
   "cell_type": "code",
   "execution_count": null,
   "id": "Y_eIJ826tHDR",
   "metadata": {
    "colab": {
     "base_uri": "https://localhost:8080/",
     "height": 573
    },
    "executionInfo": {
     "elapsed": 579,
     "status": "ok",
     "timestamp": 1632412866186,
     "user": {
      "displayName": "Lokesh Das",
      "photoUrl": "https://lh3.googleusercontent.com/a-/AOh14Gjw3b60ubMiSG1ewSk6HS4odm47Tv7_4eMohXcJAg=s64",
      "userId": "07729187777678404563"
     },
     "user_tz": 300
    },
    "id": "Y_eIJ826tHDR",
    "outputId": "f075af14-3a7e-41de-d80a-ac73b4c42440"
   },
   "outputs": [
    {
     "data": {
      "image/png": "[encoded data removed]",
      "text/plain": [
       "<Figure size 432x288 with 1 Axes>"
      ]
     },
     "metadata": {
      "needs_background": "light"
     },
     "output_type": "display_data"
    },
    {
     "data": {
      "image/png": "[encoded data removed]",
      "text/plain": [
       "<Figure size 432x288 with 1 Axes>"
      ]
     },
     "metadata": {
      "needs_background": "light"
     },
     "output_type": "display_data"
    }
   ],
   "source": [
    "plt.plot(history.history['accuracy'], label='accuracy')\n",
    "plt.plot(history.history['val_accuracy'], label = 'val_accuracy')\n",
    "plt.xlabel('Epoch')\n",
    "plt.ylabel('Accuracy')\n",
    "plt.legend(loc='lower right')\n",
    "plt.title(\"Model Accuracy\")\n",
    "plt.show()\n",
    "plt.plot(history.history['loss'],'r', label='loss')\n",
    "plt.plot(history.history['val_loss'],'c', label = 'val_loss')\n",
    "plt.xlabel('Epoch')\n",
    "plt.ylabel('Loss')\n",
    "plt.legend(loc='upper right')\n",
    "plt.title('Model Loss')\n",
    "plt.savefig('model_1_loss.png',format='png')\n",
    "plt.show()"
   ]
  },
  {
   "cell_type": "markdown",
   "id": "Z8eBMQOyt52L",
   "metadata": {
    "id": "Z8eBMQOyt52L"
   },
   "source": [
    "**Adam Optimizer**"
   ]
  },
  {
   "cell_type": "code",
   "execution_count": null,
   "id": "Rq3Sh8cWt-7t",
   "metadata": {
    "id": "Rq3Sh8cWt-7t"
   },
   "outputs": [],
   "source": [
    "optSGD = opt = tf.keras.optimizers.Adam(learning_rate=0.001,decay=1e-6)\n",
    "model.compile(loss='categorical_crossentropy', optimizer=optSGD, metrics=['accuracy'])"
   ]
  },
  {
   "cell_type": "code",
   "execution_count": null,
   "id": "KwbCBMYM2BxN",
   "metadata": {
    "colab": {
     "base_uri": "https://localhost:8080/"
    },
    "executionInfo": {
     "elapsed": 212618,
     "status": "ok",
     "timestamp": 1632287651176,
     "user": {
      "displayName": "Lokesh Das",
      "photoUrl": "https://lh3.googleusercontent.com/a-/AOh14Gjw3b60ubMiSG1ewSk6HS4odm47Tv7_4eMohXcJAg=s64",
      "userId": "07729187777678404563"
     },
     "user_tz": 300
    },
    "id": "KwbCBMYM2BxN",
    "outputId": "2e23cad6-dcf7-4486-eaae-80d97e600ab3"
   },
   "outputs": [
    {
     "name": "stdout",
     "output_type": "stream",
     "text": [
      "Epoch 1/150\n",
      "50/50 [==============================] - 3s 32ms/step - loss: 12.1860 - accuracy: 0.2064 - val_loss: 11.6857 - val_accuracy: 0.2088\n",
      "Epoch 2/150\n",
      "50/50 [==============================] - 1s 27ms/step - loss: 10.8142 - accuracy: 0.2877 - val_loss: 11.0602 - val_accuracy: 0.2467\n",
      "Epoch 3/150\n",
      "50/50 [==============================] - 1s 28ms/step - loss: 9.6839 - accuracy: 0.3520 - val_loss: 9.7573 - val_accuracy: 0.2972\n",
      "Epoch 4/150\n",
      "50/50 [==============================] - 1s 28ms/step - loss: 8.7150 - accuracy: 0.3966 - val_loss: 9.7910 - val_accuracy: 0.2749\n",
      "Epoch 5/150\n",
      "50/50 [==============================] - 1s 28ms/step - loss: 7.8345 - accuracy: 0.4352 - val_loss: 8.2387 - val_accuracy: 0.3663\n",
      "Epoch 6/150\n",
      "50/50 [==============================] - 1s 28ms/step - loss: 7.1842 - accuracy: 0.4444 - val_loss: 8.0341 - val_accuracy: 0.3395\n",
      "Epoch 7/150\n",
      "50/50 [==============================] - 1s 27ms/step - loss: 6.4081 - accuracy: 0.4976 - val_loss: 6.9333 - val_accuracy: 0.3997\n",
      "Epoch 8/150\n",
      "50/50 [==============================] - 1s 28ms/step - loss: 5.8365 - accuracy: 0.5056 - val_loss: 6.0926 - val_accuracy: 0.4012\n",
      "Epoch 9/150\n",
      "50/50 [==============================] - 1s 27ms/step - loss: 5.2901 - accuracy: 0.5202 - val_loss: 6.0403 - val_accuracy: 0.3908\n",
      "Epoch 10/150\n",
      "50/50 [==============================] - 1s 27ms/step - loss: 4.8786 - accuracy: 0.5225 - val_loss: 6.0243 - val_accuracy: 0.3328\n",
      "Epoch 11/150\n",
      "50/50 [==============================] - 1s 27ms/step - loss: 4.5434 - accuracy: 0.5314 - val_loss: 4.5542 - val_accuracy: 0.4718\n",
      "Epoch 12/150\n",
      "50/50 [==============================] - 1s 27ms/step - loss: 4.1126 - accuracy: 0.5610 - val_loss: 5.7722 - val_accuracy: 0.3291\n",
      "Epoch 13/150\n",
      "50/50 [==============================] - 1s 27ms/step - loss: 3.7301 - accuracy: 0.5757 - val_loss: 5.4518 - val_accuracy: 0.3343\n",
      "Epoch 14/150\n",
      "50/50 [==============================] - 1s 28ms/step - loss: 3.4905 - accuracy: 0.5693 - val_loss: 4.3473 - val_accuracy: 0.4123\n",
      "Epoch 15/150\n",
      "50/50 [==============================] - 1s 28ms/step - loss: 3.2069 - accuracy: 0.5871 - val_loss: 4.0186 - val_accuracy: 0.4227\n",
      "Epoch 16/150\n",
      "50/50 [==============================] - 1s 28ms/step - loss: 3.1394 - accuracy: 0.5674 - val_loss: 3.2459 - val_accuracy: 0.5431\n",
      "Epoch 17/150\n",
      "50/50 [==============================] - 1s 28ms/step - loss: 2.8523 - accuracy: 0.5929 - val_loss: 3.1163 - val_accuracy: 0.5215\n",
      "Epoch 18/150\n",
      "50/50 [==============================] - 1s 27ms/step - loss: 2.6844 - accuracy: 0.6085 - val_loss: 3.3145 - val_accuracy: 0.4688\n",
      "Epoch 19/150\n",
      "50/50 [==============================] - 1s 28ms/step - loss: 2.6372 - accuracy: 0.5817 - val_loss: 4.4347 - val_accuracy: 0.4131\n",
      "Epoch 20/150\n",
      "50/50 [==============================] - 1s 27ms/step - loss: 2.3827 - accuracy: 0.6193 - val_loss: 3.5567 - val_accuracy: 0.3960\n",
      "Epoch 21/150\n",
      "50/50 [==============================] - 1s 27ms/step - loss: 2.4862 - accuracy: 0.5753 - val_loss: 2.4739 - val_accuracy: 0.5996\n",
      "Epoch 22/150\n",
      "50/50 [==============================] - 1s 28ms/step - loss: 2.2429 - accuracy: 0.6136 - val_loss: 3.2819 - val_accuracy: 0.4160\n",
      "Epoch 23/150\n",
      "50/50 [==============================] - 1s 27ms/step - loss: 2.2785 - accuracy: 0.5945 - val_loss: 2.0300 - val_accuracy: 0.6449\n",
      "Epoch 24/150\n",
      "50/50 [==============================] - 1s 27ms/step - loss: 2.0685 - accuracy: 0.6317 - val_loss: 2.6405 - val_accuracy: 0.5275\n",
      "Epoch 25/150\n",
      "50/50 [==============================] - 1s 27ms/step - loss: 2.0171 - accuracy: 0.6317 - val_loss: 2.1233 - val_accuracy: 0.6137\n",
      "Epoch 26/150\n",
      "50/50 [==============================] - 1s 27ms/step - loss: 1.9459 - accuracy: 0.6273 - val_loss: 2.4839 - val_accuracy: 0.5319\n",
      "Epoch 27/150\n",
      "50/50 [==============================] - 1s 28ms/step - loss: 1.8669 - accuracy: 0.6480 - val_loss: 2.6801 - val_accuracy: 0.5059\n",
      "Epoch 28/150\n",
      "50/50 [==============================] - 1s 29ms/step - loss: 1.8793 - accuracy: 0.6381 - val_loss: 2.3076 - val_accuracy: 0.5149\n",
      "Epoch 29/150\n",
      "50/50 [==============================] - 1s 27ms/step - loss: 1.8300 - accuracy: 0.6362 - val_loss: 3.0861 - val_accuracy: 0.4747\n",
      "Epoch 30/150\n",
      "50/50 [==============================] - 1s 27ms/step - loss: 1.9294 - accuracy: 0.6129 - val_loss: 2.2050 - val_accuracy: 0.5758\n",
      "Epoch 31/150\n",
      "50/50 [==============================] - 1s 27ms/step - loss: 1.8894 - accuracy: 0.6126 - val_loss: 1.8448 - val_accuracy: 0.6523\n",
      "Epoch 32/150\n",
      "50/50 [==============================] - 1s 27ms/step - loss: 1.7550 - accuracy: 0.6406 - val_loss: 1.7698 - val_accuracy: 0.6330\n",
      "Epoch 33/150\n",
      "50/50 [==============================] - 1s 27ms/step - loss: 1.6936 - accuracy: 0.6499 - val_loss: 1.8368 - val_accuracy: 0.6248\n",
      "Epoch 34/150\n",
      "50/50 [==============================] - 1s 27ms/step - loss: 1.8017 - accuracy: 0.6279 - val_loss: 1.9518 - val_accuracy: 0.6189\n",
      "Epoch 35/150\n",
      "50/50 [==============================] - 1s 27ms/step - loss: 1.7214 - accuracy: 0.6496 - val_loss: 2.0813 - val_accuracy: 0.5646\n",
      "Epoch 36/150\n",
      "50/50 [==============================] - 1s 28ms/step - loss: 1.7122 - accuracy: 0.6391 - val_loss: 1.6041 - val_accuracy: 0.6828\n",
      "Epoch 37/150\n",
      "50/50 [==============================] - 1s 27ms/step - loss: 1.6269 - accuracy: 0.6457 - val_loss: 1.6643 - val_accuracy: 0.6530\n",
      "Epoch 38/150\n",
      "50/50 [==============================] - 1s 27ms/step - loss: 1.7497 - accuracy: 0.6250 - val_loss: 1.7099 - val_accuracy: 0.6315\n",
      "Epoch 39/150\n",
      "50/50 [==============================] - 1s 27ms/step - loss: 1.6366 - accuracy: 0.6448 - val_loss: 1.9112 - val_accuracy: 0.5892\n",
      "Epoch 40/150\n",
      "50/50 [==============================] - 1s 27ms/step - loss: 1.7013 - accuracy: 0.6317 - val_loss: 3.5626 - val_accuracy: 0.4376\n",
      "Epoch 41/150\n",
      "50/50 [==============================] - 1s 27ms/step - loss: 1.6453 - accuracy: 0.6461 - val_loss: 1.8019 - val_accuracy: 0.6062\n",
      "Epoch 42/150\n",
      "50/50 [==============================] - 1s 27ms/step - loss: 1.5460 - accuracy: 0.6668 - val_loss: 1.6955 - val_accuracy: 0.6330\n",
      "Epoch 43/150\n",
      "50/50 [==============================] - 1s 27ms/step - loss: 1.5786 - accuracy: 0.6537 - val_loss: 1.6521 - val_accuracy: 0.6322\n",
      "Epoch 44/150\n",
      "50/50 [==============================] - 1s 28ms/step - loss: 1.5605 - accuracy: 0.6607 - val_loss: 1.7788 - val_accuracy: 0.6278\n",
      "Epoch 45/150\n",
      "50/50 [==============================] - 1s 27ms/step - loss: 1.4615 - accuracy: 0.6792 - val_loss: 1.6787 - val_accuracy: 0.6152\n",
      "Epoch 46/150\n",
      "50/50 [==============================] - 1s 27ms/step - loss: 1.5203 - accuracy: 0.6642 - val_loss: 1.6916 - val_accuracy: 0.6374\n",
      "Epoch 47/150\n",
      "50/50 [==============================] - 1s 27ms/step - loss: 1.5040 - accuracy: 0.6617 - val_loss: 1.5983 - val_accuracy: 0.6523\n",
      "Epoch 48/150\n",
      "50/50 [==============================] - 1s 27ms/step - loss: 1.6278 - accuracy: 0.6362 - val_loss: 1.8050 - val_accuracy: 0.6100\n",
      "Epoch 49/150\n",
      "50/50 [==============================] - 1s 27ms/step - loss: 1.5386 - accuracy: 0.6566 - val_loss: 3.0987 - val_accuracy: 0.4264\n",
      "Epoch 50/150\n",
      "50/50 [==============================] - 1s 27ms/step - loss: 1.5521 - accuracy: 0.6524 - val_loss: 2.1196 - val_accuracy: 0.5238\n",
      "Epoch 51/150\n",
      "50/50 [==============================] - 1s 28ms/step - loss: 1.5511 - accuracy: 0.6534 - val_loss: 1.7159 - val_accuracy: 0.6196\n",
      "Epoch 52/150\n",
      "50/50 [==============================] - 1s 28ms/step - loss: 1.6629 - accuracy: 0.6276 - val_loss: 3.4872 - val_accuracy: 0.4004\n",
      "Epoch 53/150\n",
      "50/50 [==============================] - 1s 27ms/step - loss: 1.5179 - accuracy: 0.6833 - val_loss: 2.0739 - val_accuracy: 0.5394\n",
      "Epoch 54/150\n",
      "50/50 [==============================] - 1s 27ms/step - loss: 1.4266 - accuracy: 0.6853 - val_loss: 1.6917 - val_accuracy: 0.6137\n",
      "Epoch 55/150\n",
      "50/50 [==============================] - 1s 27ms/step - loss: 1.5774 - accuracy: 0.6451 - val_loss: 1.9044 - val_accuracy: 0.5921\n",
      "Epoch 56/150\n",
      "50/50 [==============================] - 1s 27ms/step - loss: 1.4428 - accuracy: 0.6846 - val_loss: 1.6694 - val_accuracy: 0.6129\n",
      "Epoch 57/150\n",
      "50/50 [==============================] - 1s 27ms/step - loss: 1.3946 - accuracy: 0.6929 - val_loss: 2.0527 - val_accuracy: 0.5594\n",
      "Epoch 58/150\n",
      "50/50 [==============================] - 1s 27ms/step - loss: 1.3728 - accuracy: 0.6977 - val_loss: 1.7403 - val_accuracy: 0.6159\n",
      "Epoch 59/150\n",
      "50/50 [==============================] - 1s 27ms/step - loss: 1.3750 - accuracy: 0.6932 - val_loss: 1.9391 - val_accuracy: 0.5765\n",
      "Epoch 60/150\n",
      "50/50 [==============================] - 1s 27ms/step - loss: 1.4675 - accuracy: 0.6556 - val_loss: 1.7841 - val_accuracy: 0.6070\n",
      "Epoch 61/150\n",
      "50/50 [==============================] - 1s 27ms/step - loss: 1.5341 - accuracy: 0.6489 - val_loss: 1.6080 - val_accuracy: 0.6360\n",
      "Epoch 62/150\n",
      "50/50 [==============================] - 1s 27ms/step - loss: 1.3727 - accuracy: 0.6878 - val_loss: 1.6502 - val_accuracy: 0.6159\n",
      "Epoch 63/150\n",
      "50/50 [==============================] - 1s 27ms/step - loss: 1.4444 - accuracy: 0.6802 - val_loss: 1.3994 - val_accuracy: 0.6917\n",
      "Epoch 64/150\n",
      "50/50 [==============================] - 1s 27ms/step - loss: 1.3996 - accuracy: 0.6913 - val_loss: 2.7307 - val_accuracy: 0.4599\n",
      "Epoch 65/150\n",
      "50/50 [==============================] - 1s 28ms/step - loss: 1.3568 - accuracy: 0.7015 - val_loss: 1.7411 - val_accuracy: 0.6122\n",
      "Epoch 66/150\n",
      "50/50 [==============================] - 1s 28ms/step - loss: 1.3161 - accuracy: 0.7050 - val_loss: 1.7910 - val_accuracy: 0.6040\n",
      "Epoch 67/150\n",
      "50/50 [==============================] - 1s 27ms/step - loss: 1.4113 - accuracy: 0.6808 - val_loss: 1.6619 - val_accuracy: 0.6144\n",
      "Epoch 68/150\n",
      "50/50 [==============================] - 1s 27ms/step - loss: 1.4869 - accuracy: 0.6620 - val_loss: 1.7911 - val_accuracy: 0.5988\n",
      "Epoch 69/150\n",
      "50/50 [==============================] - 1s 28ms/step - loss: 1.3386 - accuracy: 0.7111 - val_loss: 1.9453 - val_accuracy: 0.5847\n",
      "Epoch 70/150\n",
      "50/50 [==============================] - 1s 28ms/step - loss: 1.4150 - accuracy: 0.6766 - val_loss: 4.1254 - val_accuracy: 0.3796\n",
      "Epoch 71/150\n",
      "50/50 [==============================] - 1s 27ms/step - loss: 1.5471 - accuracy: 0.6579 - val_loss: 1.5512 - val_accuracy: 0.6590\n",
      "Epoch 72/150\n",
      "50/50 [==============================] - 1s 27ms/step - loss: 1.3417 - accuracy: 0.7076 - val_loss: 1.3990 - val_accuracy: 0.6865\n",
      "Epoch 73/150\n",
      "50/50 [==============================] - 1s 28ms/step - loss: 1.3218 - accuracy: 0.6999 - val_loss: 1.4199 - val_accuracy: 0.6872\n",
      "Epoch 74/150\n",
      "50/50 [==============================] - 1s 28ms/step - loss: 1.2615 - accuracy: 0.7082 - val_loss: 1.5302 - val_accuracy: 0.6270\n",
      "Epoch 75/150\n",
      "50/50 [==============================] - 1s 28ms/step - loss: 1.3653 - accuracy: 0.6731 - val_loss: 1.4910 - val_accuracy: 0.6724\n",
      "Epoch 76/150\n",
      "50/50 [==============================] - 1s 28ms/step - loss: 1.3982 - accuracy: 0.6910 - val_loss: 1.3733 - val_accuracy: 0.6991\n",
      "Epoch 77/150\n",
      "50/50 [==============================] - 1s 28ms/step - loss: 1.2613 - accuracy: 0.7203 - val_loss: 1.7755 - val_accuracy: 0.6077\n",
      "Epoch 78/150\n",
      "50/50 [==============================] - 1s 28ms/step - loss: 1.3362 - accuracy: 0.6961 - val_loss: 1.6719 - val_accuracy: 0.6196\n",
      "Epoch 79/150\n",
      "50/50 [==============================] - 1s 27ms/step - loss: 1.4555 - accuracy: 0.6550 - val_loss: 1.4746 - val_accuracy: 0.6360\n",
      "Epoch 80/150\n",
      "50/50 [==============================] - 1s 27ms/step - loss: 1.3104 - accuracy: 0.7040 - val_loss: 1.5323 - val_accuracy: 0.6701\n",
      "Epoch 81/150\n",
      "50/50 [==============================] - 1s 28ms/step - loss: 1.2698 - accuracy: 0.7136 - val_loss: 1.7207 - val_accuracy: 0.6360\n",
      "Epoch 82/150\n",
      "50/50 [==============================] - 1s 27ms/step - loss: 1.3223 - accuracy: 0.7015 - val_loss: 1.8634 - val_accuracy: 0.5869\n",
      "Epoch 83/150\n",
      "50/50 [==============================] - 1s 27ms/step - loss: 1.3067 - accuracy: 0.7082 - val_loss: 1.5473 - val_accuracy: 0.6642\n",
      "Epoch 84/150\n",
      "50/50 [==============================] - 1s 27ms/step - loss: 1.2789 - accuracy: 0.7155 - val_loss: 1.4643 - val_accuracy: 0.6709\n",
      "Epoch 85/150\n",
      "50/50 [==============================] - 1s 28ms/step - loss: 1.1945 - accuracy: 0.7337 - val_loss: 2.0160 - val_accuracy: 0.5736\n",
      "Epoch 86/150\n",
      "50/50 [==============================] - 1s 27ms/step - loss: 1.2231 - accuracy: 0.7254 - val_loss: 1.3065 - val_accuracy: 0.7080\n",
      "Epoch 87/150\n",
      "50/50 [==============================] - 1s 27ms/step - loss: 1.2435 - accuracy: 0.7276 - val_loss: 2.0401 - val_accuracy: 0.5178\n",
      "Epoch 88/150\n",
      "50/50 [==============================] - 1s 27ms/step - loss: 1.3328 - accuracy: 0.6970 - val_loss: 1.8082 - val_accuracy: 0.5572\n",
      "Epoch 89/150\n",
      "50/50 [==============================] - 1s 28ms/step - loss: 1.3345 - accuracy: 0.6954 - val_loss: 1.7216 - val_accuracy: 0.6293\n",
      "Epoch 90/150\n",
      "50/50 [==============================] - 1s 28ms/step - loss: 1.2954 - accuracy: 0.7050 - val_loss: 1.3652 - val_accuracy: 0.7028\n",
      "Epoch 91/150\n",
      "50/50 [==============================] - 1s 28ms/step - loss: 1.3068 - accuracy: 0.6970 - val_loss: 1.6682 - val_accuracy: 0.6441\n",
      "Epoch 92/150\n",
      "50/50 [==============================] - 1s 27ms/step - loss: 1.2180 - accuracy: 0.7369 - val_loss: 1.6854 - val_accuracy: 0.6426\n",
      "Epoch 93/150\n",
      "50/50 [==============================] - 1s 28ms/step - loss: 1.2412 - accuracy: 0.7232 - val_loss: 1.9552 - val_accuracy: 0.5706\n",
      "Epoch 94/150\n",
      "50/50 [==============================] - 1s 28ms/step - loss: 1.2302 - accuracy: 0.7289 - val_loss: 1.3923 - val_accuracy: 0.6790\n",
      "Epoch 95/150\n",
      "50/50 [==============================] - 1s 29ms/step - loss: 1.1838 - accuracy: 0.7385 - val_loss: 1.4357 - val_accuracy: 0.6724\n",
      "Epoch 96/150\n",
      "50/50 [==============================] - 1s 28ms/step - loss: 1.1944 - accuracy: 0.7279 - val_loss: 1.6561 - val_accuracy: 0.6337\n",
      "Epoch 97/150\n",
      "50/50 [==============================] - 1s 28ms/step - loss: 1.1394 - accuracy: 0.7413 - val_loss: 1.5135 - val_accuracy: 0.6382\n",
      "Epoch 98/150\n",
      "50/50 [==============================] - 1s 28ms/step - loss: 1.2176 - accuracy: 0.7142 - val_loss: 1.7521 - val_accuracy: 0.6040\n",
      "Epoch 99/150\n",
      "50/50 [==============================] - 1s 28ms/step - loss: 1.1394 - accuracy: 0.7455 - val_loss: 1.2764 - val_accuracy: 0.6999\n",
      "Epoch 100/150\n",
      "50/50 [==============================] - 1s 28ms/step - loss: 1.1655 - accuracy: 0.7420 - val_loss: 1.6129 - val_accuracy: 0.6345\n",
      "Epoch 101/150\n",
      "50/50 [==============================] - 1s 28ms/step - loss: 1.2056 - accuracy: 0.7302 - val_loss: 1.3010 - val_accuracy: 0.7088\n",
      "Epoch 102/150\n",
      "50/50 [==============================] - 1s 27ms/step - loss: 1.1423 - accuracy: 0.7458 - val_loss: 1.8008 - val_accuracy: 0.6137\n",
      "Epoch 103/150\n",
      "50/50 [==============================] - 1s 28ms/step - loss: 1.3259 - accuracy: 0.6853 - val_loss: 1.8759 - val_accuracy: 0.5788\n",
      "Epoch 104/150\n",
      "50/50 [==============================] - 1s 27ms/step - loss: 1.1550 - accuracy: 0.7496 - val_loss: 1.5292 - val_accuracy: 0.6620\n",
      "Epoch 105/150\n",
      "50/50 [==============================] - 1s 27ms/step - loss: 1.1370 - accuracy: 0.7439 - val_loss: 1.4742 - val_accuracy: 0.6694\n",
      "Epoch 106/150\n",
      "50/50 [==============================] - 1s 27ms/step - loss: 1.1990 - accuracy: 0.7193 - val_loss: 2.0935 - val_accuracy: 0.5193\n",
      "Epoch 107/150\n",
      "50/50 [==============================] - 1s 27ms/step - loss: 1.2896 - accuracy: 0.6948 - val_loss: 1.6261 - val_accuracy: 0.6374\n",
      "Epoch 108/150\n",
      "50/50 [==============================] - 1s 28ms/step - loss: 1.1414 - accuracy: 0.7429 - val_loss: 1.7427 - val_accuracy: 0.6100\n",
      "Epoch 109/150\n",
      "50/50 [==============================] - 1s 28ms/step - loss: 1.1886 - accuracy: 0.7375 - val_loss: 1.8431 - val_accuracy: 0.6285\n",
      "Epoch 110/150\n",
      "50/50 [==============================] - 1s 28ms/step - loss: 1.1492 - accuracy: 0.7522 - val_loss: 1.6015 - val_accuracy: 0.6345\n",
      "Epoch 111/150\n",
      "50/50 [==============================] - 1s 28ms/step - loss: 1.2150 - accuracy: 0.7343 - val_loss: 1.7270 - val_accuracy: 0.6100\n",
      "Epoch 112/150\n",
      "50/50 [==============================] - 1s 28ms/step - loss: 1.2440 - accuracy: 0.7283 - val_loss: 2.6500 - val_accuracy: 0.4911\n",
      "Epoch 113/150\n",
      "50/50 [==============================] - 1s 29ms/step - loss: 1.2688 - accuracy: 0.7212 - val_loss: 2.3827 - val_accuracy: 0.5305\n",
      "Epoch 114/150\n",
      "50/50 [==============================] - 1s 28ms/step - loss: 1.2614 - accuracy: 0.7152 - val_loss: 1.9748 - val_accuracy: 0.5721\n",
      "Epoch 115/150\n",
      "50/50 [==============================] - 1s 27ms/step - loss: 1.3357 - accuracy: 0.7002 - val_loss: 2.0950 - val_accuracy: 0.5602\n",
      "Epoch 116/150\n",
      "50/50 [==============================] - 1s 28ms/step - loss: 1.2527 - accuracy: 0.7314 - val_loss: 1.4972 - val_accuracy: 0.6553\n",
      "Epoch 117/150\n",
      "50/50 [==============================] - 1s 28ms/step - loss: 1.3035 - accuracy: 0.7117 - val_loss: 1.6232 - val_accuracy: 0.6478\n",
      "Epoch 118/150\n",
      "50/50 [==============================] - 1s 27ms/step - loss: 1.2316 - accuracy: 0.7340 - val_loss: 3.1221 - val_accuracy: 0.3930\n",
      "Epoch 119/150\n",
      "50/50 [==============================] - 1s 28ms/step - loss: 1.2551 - accuracy: 0.7222 - val_loss: 1.6926 - val_accuracy: 0.6404\n",
      "Epoch 120/150\n",
      "50/50 [==============================] - 1s 27ms/step - loss: 1.1409 - accuracy: 0.7579 - val_loss: 1.3439 - val_accuracy: 0.7028\n",
      "Epoch 121/150\n",
      "50/50 [==============================] - 1s 29ms/step - loss: 1.1889 - accuracy: 0.7455 - val_loss: 3.1118 - val_accuracy: 0.4205\n",
      "Epoch 122/150\n",
      "50/50 [==============================] - 1s 28ms/step - loss: 1.2142 - accuracy: 0.7359 - val_loss: 1.8087 - val_accuracy: 0.5914\n",
      "Epoch 123/150\n",
      "50/50 [==============================] - 1s 29ms/step - loss: 1.2172 - accuracy: 0.7385 - val_loss: 1.4476 - val_accuracy: 0.6694\n",
      "Epoch 124/150\n",
      "50/50 [==============================] - 1s 27ms/step - loss: 1.1612 - accuracy: 0.7455 - val_loss: 2.2283 - val_accuracy: 0.5364\n",
      "Epoch 125/150\n",
      "50/50 [==============================] - 1s 28ms/step - loss: 1.1640 - accuracy: 0.7426 - val_loss: 1.4981 - val_accuracy: 0.6634\n",
      "Epoch 126/150\n",
      "50/50 [==============================] - 1s 28ms/step - loss: 1.1180 - accuracy: 0.7627 - val_loss: 1.5410 - val_accuracy: 0.6478\n",
      "Epoch 127/150\n",
      "50/50 [==============================] - 1s 27ms/step - loss: 1.0883 - accuracy: 0.7547 - val_loss: 2.0009 - val_accuracy: 0.5609\n",
      "Epoch 128/150\n",
      "50/50 [==============================] - 1s 28ms/step - loss: 1.2354 - accuracy: 0.7197 - val_loss: 2.0870 - val_accuracy: 0.5840\n",
      "Epoch 129/150\n",
      "50/50 [==============================] - 1s 28ms/step - loss: 1.1923 - accuracy: 0.7458 - val_loss: 2.1069 - val_accuracy: 0.5817\n",
      "Epoch 130/150\n",
      "50/50 [==============================] - 1s 28ms/step - loss: 1.1120 - accuracy: 0.7665 - val_loss: 1.5234 - val_accuracy: 0.6664\n",
      "Epoch 131/150\n",
      "50/50 [==============================] - 1s 28ms/step - loss: 1.1848 - accuracy: 0.7378 - val_loss: 1.5367 - val_accuracy: 0.6738\n",
      "Epoch 132/150\n",
      "50/50 [==============================] - 1s 28ms/step - loss: 1.1573 - accuracy: 0.7480 - val_loss: 1.6392 - val_accuracy: 0.6441\n",
      "Epoch 133/150\n",
      "50/50 [==============================] - 1s 28ms/step - loss: 1.0697 - accuracy: 0.7745 - val_loss: 1.4775 - val_accuracy: 0.6731\n",
      "Epoch 134/150\n",
      "50/50 [==============================] - 1s 28ms/step - loss: 1.1126 - accuracy: 0.7537 - val_loss: 1.6950 - val_accuracy: 0.6226\n",
      "Epoch 135/150\n",
      "50/50 [==============================] - 1s 28ms/step - loss: 1.0661 - accuracy: 0.7655 - val_loss: 3.0928 - val_accuracy: 0.4316\n",
      "Epoch 136/150\n",
      "50/50 [==============================] - 1s 28ms/step - loss: 1.1177 - accuracy: 0.7604 - val_loss: 1.3613 - val_accuracy: 0.7013\n",
      "Epoch 137/150\n",
      "50/50 [==============================] - 1s 28ms/step - loss: 1.1361 - accuracy: 0.7509 - val_loss: 1.3039 - val_accuracy: 0.7155\n",
      "Epoch 138/150\n",
      "50/50 [==============================] - 1s 27ms/step - loss: 1.1327 - accuracy: 0.7531 - val_loss: 1.3807 - val_accuracy: 0.7088\n",
      "Epoch 139/150\n",
      "50/50 [==============================] - 1s 27ms/step - loss: 1.0991 - accuracy: 0.7572 - val_loss: 1.2943 - val_accuracy: 0.7162\n",
      "Epoch 140/150\n",
      "50/50 [==============================] - 1s 28ms/step - loss: 1.0631 - accuracy: 0.7735 - val_loss: 1.3271 - val_accuracy: 0.7088\n",
      "Epoch 141/150\n",
      "50/50 [==============================] - 1s 27ms/step - loss: 1.1784 - accuracy: 0.7324 - val_loss: 1.5134 - val_accuracy: 0.6724\n",
      "Epoch 142/150\n",
      "50/50 [==============================] - 1s 28ms/step - loss: 1.1638 - accuracy: 0.7432 - val_loss: 1.6218 - val_accuracy: 0.6634\n",
      "Epoch 143/150\n",
      "50/50 [==============================] - 1s 28ms/step - loss: 1.0637 - accuracy: 0.7741 - val_loss: 1.6283 - val_accuracy: 0.6367\n",
      "Epoch 144/150\n",
      "50/50 [==============================] - 1s 28ms/step - loss: 1.2698 - accuracy: 0.7168 - val_loss: 1.4957 - val_accuracy: 0.6790\n",
      "Epoch 145/150\n",
      "50/50 [==============================] - 1s 28ms/step - loss: 1.2114 - accuracy: 0.7442 - val_loss: 1.7303 - val_accuracy: 0.6248\n",
      "Epoch 146/150\n",
      "50/50 [==============================] - 1s 27ms/step - loss: 1.0724 - accuracy: 0.7840 - val_loss: 2.7132 - val_accuracy: 0.4985\n",
      "Epoch 147/150\n",
      "50/50 [==============================] - 1s 28ms/step - loss: 1.1202 - accuracy: 0.7646 - val_loss: 1.8922 - val_accuracy: 0.6055\n",
      "Epoch 148/150\n",
      "50/50 [==============================] - 1s 28ms/step - loss: 1.0915 - accuracy: 0.7623 - val_loss: 1.6183 - val_accuracy: 0.6397\n",
      "Epoch 149/150\n",
      "50/50 [==============================] - 1s 28ms/step - loss: 1.0595 - accuracy: 0.7821 - val_loss: 1.2764 - val_accuracy: 0.7169\n",
      "Epoch 150/150\n",
      "50/50 [==============================] - 1s 27ms/step - loss: 1.0142 - accuracy: 0.7901 - val_loss: 1.5800 - val_accuracy: 0.6620\n"
     ]
    }
   ],
   "source": [
    "if dataGenerator is not None:\n",
    "    dataGenerator.fit(train_X)\n",
    "    history = model.fit(dataGenerator.flow(train_X, train_y,\n",
    "                                     batch_size=batch_size), epochs=epochs,\n",
    "                        validation_data=(test_X, test_y))\n",
    "else:\n",
    "    history = model.fit(train_X,train_y, batch_size=batch_size,epochs=epochs,validation_data=(test_X,test_y))"
   ]
  },
  {
   "cell_type": "code",
   "execution_count": null,
   "id": "SvmThk092IBg",
   "metadata": {
    "colab": {
     "base_uri": "https://localhost:8080/"
    },
    "executionInfo": {
     "elapsed": 365,
     "status": "ok",
     "timestamp": 1632287668901,
     "user": {
      "displayName": "Lokesh Das",
      "photoUrl": "https://lh3.googleusercontent.com/a-/AOh14Gjw3b60ubMiSG1ewSk6HS4odm47Tv7_4eMohXcJAg=s64",
      "userId": "07729187777678404563"
     },
     "user_tz": 300
    },
    "id": "SvmThk092IBg",
    "outputId": "f98e7e39-efbe-4c6e-d8d0-4486cd07c7e7"
   },
   "outputs": [
    {
     "name": "stdout",
     "output_type": "stream",
     "text": [
      "43/43 [==============================] - 0s 3ms/step - loss: 1.5800 - accuracy: 0.6620\n",
      "Testing Accuracy:  66.2\n",
      "Testing Loss:  1.58\n"
     ]
    }
   ],
   "source": [
    "prediction = model.evaluate(test_X,test_y)\n",
    "print(\"Testing Accuracy: \", np.around(prediction[1]*100, decimals=2))\n",
    "print(\"Testing Loss: \", np.around(prediction[0],decimals=2))"
   ]
  },
  {
   "cell_type": "code",
   "execution_count": null,
   "id": "0bWAg4QE2Muu",
   "metadata": {
    "colab": {
     "base_uri": "https://localhost:8080/",
     "height": 573
    },
    "executionInfo": {
     "elapsed": 526,
     "status": "ok",
     "timestamp": 1632287674821,
     "user": {
      "displayName": "Lokesh Das",
      "photoUrl": "https://lh3.googleusercontent.com/a-/AOh14Gjw3b60ubMiSG1ewSk6HS4odm47Tv7_4eMohXcJAg=s64",
      "userId": "07729187777678404563"
     },
     "user_tz": 300
    },
    "id": "0bWAg4QE2Muu",
    "outputId": "a0f024d2-4d04-4e2d-ef47-a605ed9d6109"
   },
   "outputs": [
    {
     "data": {
      "image/png": "[encoded data removed]",
      "text/plain": [
       "<Figure size 432x288 with 1 Axes>"
      ]
     },
     "metadata": {},
     "output_type": "display_data"
    },
    {
     "data": {
      "image/png": "[encoded data removed]",
      "text/plain": [
       "<Figure size 432x288 with 1 Axes>"
      ]
     },
     "metadata": {},
     "output_type": "display_data"
    }
   ],
   "source": [
    "plt.plot(history.history['accuracy'], label='accuracy')\n",
    "plt.plot(history.history['val_accuracy'], label = 'val_accuracy')\n",
    "plt.xlabel('Epoch')\n",
    "plt.ylabel('Accuracy')\n",
    "plt.legend(loc='lower right')\n",
    "plt.title(\"Model Accuracy\")\n",
    "plt.show()\n",
    "plt.plot(history.history['loss'],'r', label='loss')\n",
    "plt.plot(history.history['val_loss'],'c', label = 'val_loss')\n",
    "plt.xlabel('Epoch')\n",
    "plt.ylabel('Loss')\n",
    "plt.legend(loc='upper right')\n",
    "plt.title('Model Loss')\n",
    "plt.savefig('model_1_loss.png',format='png')\n",
    "plt.show()"
   ]
  },
  {
   "cell_type": "code",
   "execution_count": null,
   "id": "KYmY7_467bnr",
   "metadata": {
    "id": "KYmY7_467bnr"
   },
   "outputs": [],
   "source": [
    "optRMSprop = opt = tf.keras.optimizers.RMSprop(learning_rate=0.001,decay=1e-4)\n",
    "model.compile(loss='categorical_crossentropy', optimizer=optSGD, metrics=['accuracy'])"
   ]
  },
  {
   "cell_type": "code",
   "execution_count": null,
   "id": "W-x977Jf7pjh",
   "metadata": {
    "colab": {
     "base_uri": "https://localhost:8080/"
    },
    "executionInfo": {
     "elapsed": 212658,
     "status": "ok",
     "timestamp": 1632288025270,
     "user": {
      "displayName": "Lokesh Das",
      "photoUrl": "https://lh3.googleusercontent.com/a-/AOh14Gjw3b60ubMiSG1ewSk6HS4odm47Tv7_4eMohXcJAg=s64",
      "userId": "07729187777678404563"
     },
     "user_tz": 300
    },
    "id": "W-x977Jf7pjh",
    "outputId": "110e844e-9bbc-483d-babf-d5abece34683"
   },
   "outputs": [
    {
     "name": "stdout",
     "output_type": "stream",
     "text": [
      "Epoch 1/150\n",
      "50/50 [==============================] - 2s 32ms/step - loss: 12.0204 - accuracy: 0.2061 - val_loss: 11.2740 - val_accuracy: 0.2675\n",
      "Epoch 2/150\n",
      "50/50 [==============================] - 1s 27ms/step - loss: 8.7420 - accuracy: 0.3198 - val_loss: 8.7048 - val_accuracy: 0.2103\n",
      "Epoch 3/150\n",
      "50/50 [==============================] - 1s 27ms/step - loss: 6.5371 - accuracy: 0.4055 - val_loss: 9.1847 - val_accuracy: 0.1560\n",
      "Epoch 4/150\n",
      "50/50 [==============================] - 1s 27ms/step - loss: 5.2634 - accuracy: 0.4670 - val_loss: 6.6763 - val_accuracy: 0.2444\n",
      "Epoch 5/150\n",
      "50/50 [==============================] - 1s 28ms/step - loss: 4.5222 - accuracy: 0.4782 - val_loss: 5.7546 - val_accuracy: 0.2868\n",
      "Epoch 6/150\n",
      "50/50 [==============================] - 1s 27ms/step - loss: 3.7947 - accuracy: 0.5295 - val_loss: 4.9748 - val_accuracy: 0.2979\n",
      "Epoch 7/150\n",
      "50/50 [==============================] - 1s 27ms/step - loss: 3.4646 - accuracy: 0.5260 - val_loss: 4.3798 - val_accuracy: 0.3730\n",
      "Epoch 8/150\n",
      "50/50 [==============================] - 1s 27ms/step - loss: 3.0176 - accuracy: 0.5661 - val_loss: 3.8609 - val_accuracy: 0.3796\n",
      "Epoch 9/150\n",
      "50/50 [==============================] - 1s 27ms/step - loss: 2.7643 - accuracy: 0.5715 - val_loss: 4.3368 - val_accuracy: 0.3120\n",
      "Epoch 10/150\n",
      "50/50 [==============================] - 1s 27ms/step - loss: 2.5452 - accuracy: 0.5795 - val_loss: 4.2892 - val_accuracy: 0.3425\n",
      "Epoch 11/150\n",
      "50/50 [==============================] - 1s 27ms/step - loss: 2.4080 - accuracy: 0.5782 - val_loss: 2.8419 - val_accuracy: 0.5059\n",
      "Epoch 12/150\n",
      "50/50 [==============================] - 1s 28ms/step - loss: 2.4530 - accuracy: 0.5534 - val_loss: 3.3986 - val_accuracy: 0.4554\n",
      "Epoch 13/150\n",
      "50/50 [==============================] - 1s 27ms/step - loss: 2.3809 - accuracy: 0.5588 - val_loss: 2.3357 - val_accuracy: 0.5847\n",
      "Epoch 14/150\n",
      "50/50 [==============================] - 1s 27ms/step - loss: 2.1779 - accuracy: 0.6047 - val_loss: 2.3832 - val_accuracy: 0.5676\n",
      "Epoch 15/150\n",
      "50/50 [==============================] - 1s 27ms/step - loss: 2.0651 - accuracy: 0.6113 - val_loss: 2.1627 - val_accuracy: 0.5832\n",
      "Epoch 16/150\n",
      "50/50 [==============================] - 1s 27ms/step - loss: 1.9039 - accuracy: 0.6295 - val_loss: 2.5704 - val_accuracy: 0.4911\n",
      "Epoch 17/150\n",
      "50/50 [==============================] - 1s 28ms/step - loss: 1.9277 - accuracy: 0.6161 - val_loss: 2.3795 - val_accuracy: 0.5178\n",
      "Epoch 18/150\n",
      "50/50 [==============================] - 1s 27ms/step - loss: 1.9414 - accuracy: 0.6177 - val_loss: 2.6670 - val_accuracy: 0.5253\n",
      "Epoch 19/150\n",
      "50/50 [==============================] - 1s 27ms/step - loss: 1.9921 - accuracy: 0.5954 - val_loss: 2.0869 - val_accuracy: 0.6018\n",
      "Epoch 20/150\n",
      "50/50 [==============================] - 1s 27ms/step - loss: 1.8221 - accuracy: 0.6305 - val_loss: 3.5134 - val_accuracy: 0.4346\n",
      "Epoch 21/150\n",
      "50/50 [==============================] - 1s 29ms/step - loss: 1.8549 - accuracy: 0.6005 - val_loss: 2.2367 - val_accuracy: 0.5639\n",
      "Epoch 22/150\n",
      "50/50 [==============================] - 1s 28ms/step - loss: 1.8664 - accuracy: 0.6072 - val_loss: 1.9754 - val_accuracy: 0.5973\n",
      "Epoch 23/150\n",
      "50/50 [==============================] - 1s 27ms/step - loss: 1.7004 - accuracy: 0.6333 - val_loss: 1.9135 - val_accuracy: 0.5944\n",
      "Epoch 24/150\n",
      "50/50 [==============================] - 1s 27ms/step - loss: 1.6113 - accuracy: 0.6582 - val_loss: 1.9375 - val_accuracy: 0.5914\n",
      "Epoch 25/150\n",
      "50/50 [==============================] - 1s 27ms/step - loss: 1.6476 - accuracy: 0.6406 - val_loss: 1.6524 - val_accuracy: 0.6538\n",
      "Epoch 26/150\n",
      "50/50 [==============================] - 1s 28ms/step - loss: 1.6268 - accuracy: 0.6464 - val_loss: 1.8841 - val_accuracy: 0.5869\n",
      "Epoch 27/150\n",
      "50/50 [==============================] - 1s 28ms/step - loss: 1.5857 - accuracy: 0.6524 - val_loss: 1.7371 - val_accuracy: 0.6256\n",
      "Epoch 28/150\n",
      "50/50 [==============================] - 1s 29ms/step - loss: 1.6470 - accuracy: 0.6333 - val_loss: 2.2751 - val_accuracy: 0.5676\n",
      "Epoch 29/150\n",
      "50/50 [==============================] - 1s 27ms/step - loss: 1.6022 - accuracy: 0.6387 - val_loss: 1.9767 - val_accuracy: 0.5773\n",
      "Epoch 30/150\n",
      "50/50 [==============================] - 1s 27ms/step - loss: 1.5577 - accuracy: 0.6406 - val_loss: 1.9177 - val_accuracy: 0.5788\n",
      "Epoch 31/150\n",
      "50/50 [==============================] - 1s 27ms/step - loss: 1.5803 - accuracy: 0.6384 - val_loss: 1.8865 - val_accuracy: 0.5825\n",
      "Epoch 32/150\n",
      "50/50 [==============================] - 1s 28ms/step - loss: 1.4775 - accuracy: 0.6744 - val_loss: 1.8294 - val_accuracy: 0.6070\n",
      "Epoch 33/150\n",
      "50/50 [==============================] - 1s 27ms/step - loss: 1.4673 - accuracy: 0.6661 - val_loss: 1.5759 - val_accuracy: 0.6634\n",
      "Epoch 34/150\n",
      "50/50 [==============================] - 1s 27ms/step - loss: 1.4434 - accuracy: 0.6735 - val_loss: 1.7111 - val_accuracy: 0.6278\n",
      "Epoch 35/150\n",
      "50/50 [==============================] - 1s 27ms/step - loss: 1.3997 - accuracy: 0.6884 - val_loss: 3.0166 - val_accuracy: 0.4227\n",
      "Epoch 36/150\n",
      "50/50 [==============================] - 1s 27ms/step - loss: 1.5029 - accuracy: 0.6547 - val_loss: 1.8157 - val_accuracy: 0.6233\n",
      "Epoch 37/150\n",
      "50/50 [==============================] - 1s 28ms/step - loss: 1.3677 - accuracy: 0.6865 - val_loss: 1.5797 - val_accuracy: 0.6575\n",
      "Epoch 38/150\n",
      "50/50 [==============================] - 1s 27ms/step - loss: 1.4577 - accuracy: 0.6518 - val_loss: 1.7946 - val_accuracy: 0.6129\n",
      "Epoch 39/150\n",
      "50/50 [==============================] - 1s 27ms/step - loss: 1.4228 - accuracy: 0.6716 - val_loss: 1.5382 - val_accuracy: 0.6538\n",
      "Epoch 40/150\n",
      "50/50 [==============================] - 1s 28ms/step - loss: 1.3690 - accuracy: 0.6805 - val_loss: 1.5741 - val_accuracy: 0.6441\n",
      "Epoch 41/150\n",
      "50/50 [==============================] - 1s 28ms/step - loss: 1.3995 - accuracy: 0.6827 - val_loss: 1.9184 - val_accuracy: 0.6085\n",
      "Epoch 42/150\n",
      "50/50 [==============================] - 1s 28ms/step - loss: 1.4757 - accuracy: 0.6556 - val_loss: 1.9507 - val_accuracy: 0.5966\n",
      "Epoch 43/150\n",
      "50/50 [==============================] - 1s 28ms/step - loss: 1.3803 - accuracy: 0.6782 - val_loss: 1.8411 - val_accuracy: 0.5966\n",
      "Epoch 44/150\n",
      "50/50 [==============================] - 1s 28ms/step - loss: 1.3698 - accuracy: 0.6802 - val_loss: 1.9912 - val_accuracy: 0.5840\n",
      "Epoch 45/150\n",
      "50/50 [==============================] - 1s 29ms/step - loss: 1.3914 - accuracy: 0.6700 - val_loss: 1.4295 - val_accuracy: 0.6738\n",
      "Epoch 46/150\n",
      "50/50 [==============================] - 1s 27ms/step - loss: 1.3918 - accuracy: 0.6760 - val_loss: 1.5719 - val_accuracy: 0.6493\n",
      "Epoch 47/150\n",
      "50/50 [==============================] - 1s 28ms/step - loss: 1.3343 - accuracy: 0.6942 - val_loss: 1.4243 - val_accuracy: 0.6768\n",
      "Epoch 48/150\n",
      "50/50 [==============================] - 1s 28ms/step - loss: 1.2886 - accuracy: 0.7053 - val_loss: 1.6467 - val_accuracy: 0.6270\n",
      "Epoch 49/150\n",
      "50/50 [==============================] - 1s 28ms/step - loss: 1.3935 - accuracy: 0.6693 - val_loss: 1.4206 - val_accuracy: 0.6798\n",
      "Epoch 50/150\n",
      "50/50 [==============================] - 1s 28ms/step - loss: 1.3767 - accuracy: 0.6824 - val_loss: 1.9117 - val_accuracy: 0.5661\n",
      "Epoch 51/150\n",
      "50/50 [==============================] - 1s 29ms/step - loss: 1.3694 - accuracy: 0.6824 - val_loss: 1.4168 - val_accuracy: 0.6783\n",
      "Epoch 52/150\n",
      "50/50 [==============================] - 1s 27ms/step - loss: 1.2531 - accuracy: 0.7136 - val_loss: 1.3753 - val_accuracy: 0.6842\n",
      "Epoch 53/150\n",
      "50/50 [==============================] - 1s 27ms/step - loss: 1.3849 - accuracy: 0.6802 - val_loss: 1.6547 - val_accuracy: 0.6263\n",
      "Epoch 54/150\n",
      "50/50 [==============================] - 1s 27ms/step - loss: 1.2879 - accuracy: 0.7005 - val_loss: 1.6309 - val_accuracy: 0.6456\n",
      "Epoch 55/150\n",
      "50/50 [==============================] - 1s 28ms/step - loss: 1.3074 - accuracy: 0.6939 - val_loss: 2.0878 - val_accuracy: 0.5750\n",
      "Epoch 56/150\n",
      "50/50 [==============================] - 1s 27ms/step - loss: 1.3468 - accuracy: 0.6808 - val_loss: 1.9196 - val_accuracy: 0.5958\n",
      "Epoch 57/150\n",
      "50/50 [==============================] - 1s 28ms/step - loss: 1.2853 - accuracy: 0.6923 - val_loss: 2.7651 - val_accuracy: 0.4673\n",
      "Epoch 58/150\n",
      "50/50 [==============================] - 1s 27ms/step - loss: 1.3872 - accuracy: 0.6789 - val_loss: 1.6903 - val_accuracy: 0.6300\n",
      "Epoch 59/150\n",
      "50/50 [==============================] - 1s 28ms/step - loss: 1.3125 - accuracy: 0.6942 - val_loss: 4.3344 - val_accuracy: 0.3522\n",
      "Epoch 60/150\n",
      "50/50 [==============================] - 1s 29ms/step - loss: 1.3251 - accuracy: 0.6913 - val_loss: 2.1320 - val_accuracy: 0.5758\n",
      "Epoch 61/150\n",
      "50/50 [==============================] - 1s 28ms/step - loss: 1.3290 - accuracy: 0.6954 - val_loss: 1.4794 - val_accuracy: 0.6426\n",
      "Epoch 62/150\n",
      "50/50 [==============================] - 1s 28ms/step - loss: 1.3014 - accuracy: 0.7082 - val_loss: 1.9065 - val_accuracy: 0.5884\n",
      "Epoch 63/150\n",
      "50/50 [==============================] - 1s 28ms/step - loss: 1.2291 - accuracy: 0.7155 - val_loss: 1.5927 - val_accuracy: 0.6471\n",
      "Epoch 64/150\n",
      "50/50 [==============================] - 1s 27ms/step - loss: 1.1748 - accuracy: 0.7311 - val_loss: 1.5872 - val_accuracy: 0.6456\n",
      "Epoch 65/150\n",
      "50/50 [==============================] - 1s 27ms/step - loss: 1.1472 - accuracy: 0.7474 - val_loss: 1.4546 - val_accuracy: 0.6575\n",
      "Epoch 66/150\n",
      "50/50 [==============================] - 1s 27ms/step - loss: 1.1977 - accuracy: 0.7248 - val_loss: 1.7370 - val_accuracy: 0.6025\n",
      "Epoch 67/150\n",
      "50/50 [==============================] - 1s 27ms/step - loss: 1.1491 - accuracy: 0.7286 - val_loss: 1.4148 - val_accuracy: 0.6694\n",
      "Epoch 68/150\n",
      "50/50 [==============================] - 1s 28ms/step - loss: 1.1687 - accuracy: 0.7330 - val_loss: 1.3993 - val_accuracy: 0.6820\n",
      "Epoch 69/150\n",
      "50/50 [==============================] - 1s 29ms/step - loss: 1.2128 - accuracy: 0.7082 - val_loss: 1.8149 - val_accuracy: 0.5988\n",
      "Epoch 70/150\n",
      "50/50 [==============================] - 1s 27ms/step - loss: 1.2174 - accuracy: 0.7088 - val_loss: 1.4142 - val_accuracy: 0.6820\n",
      "Epoch 71/150\n",
      "50/50 [==============================] - 1s 27ms/step - loss: 1.1664 - accuracy: 0.7302 - val_loss: 1.6677 - val_accuracy: 0.6233\n",
      "Epoch 72/150\n",
      "50/50 [==============================] - 1s 27ms/step - loss: 1.2138 - accuracy: 0.7123 - val_loss: 1.5350 - val_accuracy: 0.6441\n",
      "Epoch 73/150\n",
      "50/50 [==============================] - 1s 28ms/step - loss: 1.1918 - accuracy: 0.7114 - val_loss: 1.8254 - val_accuracy: 0.6070\n",
      "Epoch 74/150\n",
      "50/50 [==============================] - 1s 27ms/step - loss: 1.1514 - accuracy: 0.7343 - val_loss: 1.7819 - val_accuracy: 0.5996\n",
      "Epoch 75/150\n",
      "50/50 [==============================] - 1s 27ms/step - loss: 1.1029 - accuracy: 0.7416 - val_loss: 1.6552 - val_accuracy: 0.6218\n",
      "Epoch 76/150\n",
      "50/50 [==============================] - 1s 28ms/step - loss: 1.1978 - accuracy: 0.7088 - val_loss: 1.8458 - val_accuracy: 0.6166\n",
      "Epoch 77/150\n",
      "50/50 [==============================] - 1s 27ms/step - loss: 1.1498 - accuracy: 0.7372 - val_loss: 1.6155 - val_accuracy: 0.6114\n",
      "Epoch 78/150\n",
      "50/50 [==============================] - 1s 27ms/step - loss: 1.2076 - accuracy: 0.7120 - val_loss: 1.2872 - val_accuracy: 0.7051\n",
      "Epoch 79/150\n",
      "50/50 [==============================] - 1s 27ms/step - loss: 1.1872 - accuracy: 0.7241 - val_loss: 1.5872 - val_accuracy: 0.6204\n",
      "Epoch 80/150\n",
      "50/50 [==============================] - 1s 27ms/step - loss: 1.1682 - accuracy: 0.7330 - val_loss: 1.8149 - val_accuracy: 0.6300\n",
      "Epoch 81/150\n",
      "50/50 [==============================] - 1s 27ms/step - loss: 1.2030 - accuracy: 0.7334 - val_loss: 1.4940 - val_accuracy: 0.6716\n",
      "Epoch 82/150\n",
      "50/50 [==============================] - 1s 28ms/step - loss: 1.1846 - accuracy: 0.7270 - val_loss: 1.2802 - val_accuracy: 0.7207\n",
      "Epoch 83/150\n",
      "50/50 [==============================] - 1s 28ms/step - loss: 1.1639 - accuracy: 0.7267 - val_loss: 1.4779 - val_accuracy: 0.6493\n",
      "Epoch 84/150\n",
      "50/50 [==============================] - 1s 28ms/step - loss: 1.1103 - accuracy: 0.7423 - val_loss: 1.3875 - val_accuracy: 0.6813\n",
      "Epoch 85/150\n",
      "50/50 [==============================] - 1s 29ms/step - loss: 1.1540 - accuracy: 0.7365 - val_loss: 1.4934 - val_accuracy: 0.6731\n",
      "Epoch 86/150\n",
      "50/50 [==============================] - 1s 27ms/step - loss: 1.1212 - accuracy: 0.7432 - val_loss: 1.6977 - val_accuracy: 0.6107\n",
      "Epoch 87/150\n",
      "50/50 [==============================] - 1s 27ms/step - loss: 1.2034 - accuracy: 0.7190 - val_loss: 2.2376 - val_accuracy: 0.5461\n",
      "Epoch 88/150\n",
      "50/50 [==============================] - 1s 27ms/step - loss: 1.2327 - accuracy: 0.7149 - val_loss: 1.4015 - val_accuracy: 0.6999\n",
      "Epoch 89/150\n",
      "50/50 [==============================] - 1s 27ms/step - loss: 1.1714 - accuracy: 0.7292 - val_loss: 1.9483 - val_accuracy: 0.5877\n",
      "Epoch 90/150\n",
      "50/50 [==============================] - 1s 28ms/step - loss: 1.1005 - accuracy: 0.7518 - val_loss: 1.5146 - val_accuracy: 0.6575\n",
      "Epoch 91/150\n",
      "50/50 [==============================] - 1s 29ms/step - loss: 1.1839 - accuracy: 0.7359 - val_loss: 1.4242 - val_accuracy: 0.6768\n",
      "Epoch 92/150\n",
      "50/50 [==============================] - 1s 28ms/step - loss: 1.2155 - accuracy: 0.7123 - val_loss: 1.4950 - val_accuracy: 0.6582\n",
      "Epoch 93/150\n",
      "50/50 [==============================] - 1s 28ms/step - loss: 1.1535 - accuracy: 0.7334 - val_loss: 1.3312 - val_accuracy: 0.7013\n",
      "Epoch 94/150\n",
      "50/50 [==============================] - 1s 28ms/step - loss: 1.1013 - accuracy: 0.7506 - val_loss: 1.4013 - val_accuracy: 0.6887\n",
      "Epoch 95/150\n",
      "50/50 [==============================] - 1s 28ms/step - loss: 1.1289 - accuracy: 0.7388 - val_loss: 1.8136 - val_accuracy: 0.6174\n",
      "Epoch 96/150\n",
      "50/50 [==============================] - 1s 28ms/step - loss: 1.1341 - accuracy: 0.7442 - val_loss: 1.3835 - val_accuracy: 0.7021\n",
      "Epoch 97/150\n",
      "50/50 [==============================] - 1s 28ms/step - loss: 1.0610 - accuracy: 0.7582 - val_loss: 1.6715 - val_accuracy: 0.6196\n",
      "Epoch 98/150\n",
      "50/50 [==============================] - 1s 28ms/step - loss: 1.0290 - accuracy: 0.7738 - val_loss: 1.5980 - val_accuracy: 0.6397\n",
      "Epoch 99/150\n",
      "50/50 [==============================] - 1s 27ms/step - loss: 1.0852 - accuracy: 0.7512 - val_loss: 1.3894 - val_accuracy: 0.6790\n",
      "Epoch 100/150\n",
      "50/50 [==============================] - 1s 28ms/step - loss: 1.0387 - accuracy: 0.7709 - val_loss: 1.6788 - val_accuracy: 0.6449\n",
      "Epoch 101/150\n",
      "50/50 [==============================] - 1s 27ms/step - loss: 1.0708 - accuracy: 0.7550 - val_loss: 1.6723 - val_accuracy: 0.6404\n",
      "Epoch 102/150\n",
      "50/50 [==============================] - 1s 29ms/step - loss: 1.1310 - accuracy: 0.7420 - val_loss: 2.5600 - val_accuracy: 0.5357\n",
      "Epoch 103/150\n",
      "50/50 [==============================] - 1s 27ms/step - loss: 1.1862 - accuracy: 0.7168 - val_loss: 1.6090 - val_accuracy: 0.6716\n",
      "Epoch 104/150\n",
      "50/50 [==============================] - 1s 28ms/step - loss: 1.1187 - accuracy: 0.7429 - val_loss: 1.5478 - val_accuracy: 0.6612\n",
      "Epoch 105/150\n",
      "50/50 [==============================] - 1s 28ms/step - loss: 1.1220 - accuracy: 0.7448 - val_loss: 1.4163 - val_accuracy: 0.6872\n",
      "Epoch 106/150\n",
      "50/50 [==============================] - 1s 27ms/step - loss: 1.0303 - accuracy: 0.7799 - val_loss: 1.3042 - val_accuracy: 0.7088\n",
      "Epoch 107/150\n",
      "50/50 [==============================] - 1s 28ms/step - loss: 1.1531 - accuracy: 0.7292 - val_loss: 1.8837 - val_accuracy: 0.6070\n",
      "Epoch 108/150\n",
      "50/50 [==============================] - 1s 27ms/step - loss: 1.0737 - accuracy: 0.7579 - val_loss: 1.6020 - val_accuracy: 0.6605\n",
      "Epoch 109/150\n",
      "50/50 [==============================] - 1s 27ms/step - loss: 1.0716 - accuracy: 0.7623 - val_loss: 1.2832 - val_accuracy: 0.7221\n",
      "Epoch 110/150\n",
      "50/50 [==============================] - 1s 28ms/step - loss: 1.0801 - accuracy: 0.7547 - val_loss: 1.6674 - val_accuracy: 0.6122\n",
      "Epoch 111/150\n",
      "50/50 [==============================] - 1s 28ms/step - loss: 1.0218 - accuracy: 0.7767 - val_loss: 1.6798 - val_accuracy: 0.6389\n",
      "Epoch 112/150\n",
      "50/50 [==============================] - 1s 27ms/step - loss: 1.1160 - accuracy: 0.7455 - val_loss: 1.4849 - val_accuracy: 0.6887\n",
      "Epoch 113/150\n",
      "50/50 [==============================] - 1s 28ms/step - loss: 1.0355 - accuracy: 0.7745 - val_loss: 1.6133 - val_accuracy: 0.6256\n",
      "Epoch 114/150\n",
      "50/50 [==============================] - 1s 28ms/step - loss: 1.0337 - accuracy: 0.7741 - val_loss: 1.4602 - val_accuracy: 0.6776\n",
      "Epoch 115/150\n",
      "50/50 [==============================] - 1s 27ms/step - loss: 0.9674 - accuracy: 0.7837 - val_loss: 1.5298 - val_accuracy: 0.6471\n",
      "Epoch 116/150\n",
      "50/50 [==============================] - 1s 28ms/step - loss: 1.0207 - accuracy: 0.7646 - val_loss: 1.7418 - val_accuracy: 0.6211\n",
      "Epoch 117/150\n",
      "50/50 [==============================] - 1s 28ms/step - loss: 1.0985 - accuracy: 0.7483 - val_loss: 1.9559 - val_accuracy: 0.6100\n",
      "Epoch 118/150\n",
      "50/50 [==============================] - 1s 28ms/step - loss: 1.0885 - accuracy: 0.7496 - val_loss: 1.4643 - val_accuracy: 0.6880\n",
      "Epoch 119/150\n",
      "50/50 [==============================] - 1s 28ms/step - loss: 1.0606 - accuracy: 0.7579 - val_loss: 2.1780 - val_accuracy: 0.5067\n",
      "Epoch 120/150\n",
      "50/50 [==============================] - 1s 28ms/step - loss: 1.1092 - accuracy: 0.7509 - val_loss: 1.5524 - val_accuracy: 0.6441\n",
      "Epoch 121/150\n",
      "50/50 [==============================] - 1s 28ms/step - loss: 1.1036 - accuracy: 0.7525 - val_loss: 1.7928 - val_accuracy: 0.6256\n",
      "Epoch 122/150\n",
      "50/50 [==============================] - 1s 28ms/step - loss: 1.1293 - accuracy: 0.7445 - val_loss: 1.5422 - val_accuracy: 0.6783\n",
      "Epoch 123/150\n",
      "50/50 [==============================] - 1s 28ms/step - loss: 1.0933 - accuracy: 0.7534 - val_loss: 2.3990 - val_accuracy: 0.5253\n",
      "Epoch 124/150\n",
      "50/50 [==============================] - 1s 27ms/step - loss: 1.0501 - accuracy: 0.7792 - val_loss: 1.3313 - val_accuracy: 0.7229\n",
      "Epoch 125/150\n",
      "50/50 [==============================] - 1s 27ms/step - loss: 1.0621 - accuracy: 0.7512 - val_loss: 1.6685 - val_accuracy: 0.6404\n",
      "Epoch 126/150\n",
      "50/50 [==============================] - 1s 27ms/step - loss: 1.0068 - accuracy: 0.7719 - val_loss: 1.5371 - val_accuracy: 0.6701\n",
      "Epoch 127/150\n",
      "50/50 [==============================] - 1s 28ms/step - loss: 1.0595 - accuracy: 0.7611 - val_loss: 1.5791 - val_accuracy: 0.6605\n",
      "Epoch 128/150\n",
      "50/50 [==============================] - 1s 28ms/step - loss: 1.0127 - accuracy: 0.7821 - val_loss: 1.6384 - val_accuracy: 0.6582\n",
      "Epoch 129/150\n",
      "50/50 [==============================] - 1s 28ms/step - loss: 0.9794 - accuracy: 0.7802 - val_loss: 1.4647 - val_accuracy: 0.6857\n",
      "Epoch 130/150\n",
      "50/50 [==============================] - 1s 28ms/step - loss: 1.0262 - accuracy: 0.7706 - val_loss: 1.5280 - val_accuracy: 0.6731\n",
      "Epoch 131/150\n",
      "50/50 [==============================] - 1s 27ms/step - loss: 1.0880 - accuracy: 0.7547 - val_loss: 1.5615 - val_accuracy: 0.6516\n",
      "Epoch 132/150\n",
      "50/50 [==============================] - 1s 28ms/step - loss: 1.0346 - accuracy: 0.7741 - val_loss: 1.5602 - val_accuracy: 0.6783\n",
      "Epoch 133/150\n",
      "50/50 [==============================] - 1s 27ms/step - loss: 1.0033 - accuracy: 0.7741 - val_loss: 1.2879 - val_accuracy: 0.7140\n",
      "Epoch 134/150\n",
      "50/50 [==============================] - 1s 28ms/step - loss: 0.9715 - accuracy: 0.7869 - val_loss: 1.2936 - val_accuracy: 0.7221\n",
      "Epoch 135/150\n",
      "50/50 [==============================] - 1s 27ms/step - loss: 0.9930 - accuracy: 0.7789 - val_loss: 1.8666 - val_accuracy: 0.6122\n",
      "Epoch 136/150\n",
      "50/50 [==============================] - 1s 28ms/step - loss: 1.1856 - accuracy: 0.7289 - val_loss: 2.0763 - val_accuracy: 0.5795\n",
      "Epoch 137/150\n",
      "50/50 [==============================] - 1s 28ms/step - loss: 1.0245 - accuracy: 0.7760 - val_loss: 1.2704 - val_accuracy: 0.7273\n",
      "Epoch 138/150\n",
      "50/50 [==============================] - 1s 28ms/step - loss: 1.0781 - accuracy: 0.7576 - val_loss: 1.4401 - val_accuracy: 0.6805\n",
      "Epoch 139/150\n",
      "50/50 [==============================] - 1s 28ms/step - loss: 1.0384 - accuracy: 0.7760 - val_loss: 1.4043 - val_accuracy: 0.6932\n",
      "Epoch 140/150\n",
      "50/50 [==============================] - 1s 28ms/step - loss: 0.9618 - accuracy: 0.7961 - val_loss: 1.9222 - val_accuracy: 0.6270\n",
      "Epoch 141/150\n",
      "50/50 [==============================] - 1s 27ms/step - loss: 0.9871 - accuracy: 0.7894 - val_loss: 1.6348 - val_accuracy: 0.6612\n",
      "Epoch 142/150\n",
      "50/50 [==============================] - 1s 28ms/step - loss: 0.9629 - accuracy: 0.7904 - val_loss: 1.4374 - val_accuracy: 0.6820\n",
      "Epoch 143/150\n",
      "50/50 [==============================] - 1s 27ms/step - loss: 0.9889 - accuracy: 0.7881 - val_loss: 1.4059 - val_accuracy: 0.7013\n",
      "Epoch 144/150\n",
      "50/50 [==============================] - 1s 28ms/step - loss: 0.9968 - accuracy: 0.7875 - val_loss: 1.4547 - val_accuracy: 0.6724\n",
      "Epoch 145/150\n",
      "50/50 [==============================] - 1s 29ms/step - loss: 0.9819 - accuracy: 0.7808 - val_loss: 1.7131 - val_accuracy: 0.6278\n",
      "Epoch 146/150\n",
      "50/50 [==============================] - 1s 28ms/step - loss: 0.9682 - accuracy: 0.7907 - val_loss: 1.3076 - val_accuracy: 0.6947\n",
      "Epoch 147/150\n",
      "50/50 [==============================] - 1s 27ms/step - loss: 0.9441 - accuracy: 0.7932 - val_loss: 1.5744 - val_accuracy: 0.6620\n",
      "Epoch 148/150\n",
      "50/50 [==============================] - 1s 28ms/step - loss: 1.0179 - accuracy: 0.7716 - val_loss: 4.8647 - val_accuracy: 0.4131\n",
      "Epoch 149/150\n",
      "50/50 [==============================] - 1s 28ms/step - loss: 1.0911 - accuracy: 0.7544 - val_loss: 1.5192 - val_accuracy: 0.6701\n",
      "Epoch 150/150\n",
      "50/50 [==============================] - 1s 28ms/step - loss: 0.9757 - accuracy: 0.7948 - val_loss: 1.3211 - val_accuracy: 0.7184\n"
     ]
    }
   ],
   "source": [
    "if dataGenerator is not None:\n",
    "    dataGenerator.fit(train_X)\n",
    "    history = model.fit(dataGenerator.flow(train_X, train_y,\n",
    "                                     batch_size=batch_size), epochs=epochs,\n",
    "                        validation_data=(test_X, test_y))\n",
    "else:\n",
    "    history = model.fit(train_X,train_y, batch_size=batch_size,epochs=epochs,validation_data=(test_X,test_y))"
   ]
  },
  {
   "cell_type": "code",
   "execution_count": null,
   "id": "vIOmMl039nRW",
   "metadata": {
    "colab": {
     "base_uri": "https://localhost:8080/"
    },
    "executionInfo": {
     "elapsed": 335,
     "status": "ok",
     "timestamp": 1632288277644,
     "user": {
      "displayName": "Lokesh Das",
      "photoUrl": "https://lh3.googleusercontent.com/a-/AOh14Gjw3b60ubMiSG1ewSk6HS4odm47Tv7_4eMohXcJAg=s64",
      "userId": "07729187777678404563"
     },
     "user_tz": 300
    },
    "id": "vIOmMl039nRW",
    "outputId": "6720ecf9-4ead-4d23-a21e-44cb81f0cea6"
   },
   "outputs": [
    {
     "name": "stdout",
     "output_type": "stream",
     "text": [
      "43/43 [==============================] - 0s 3ms/step - loss: 1.3211 - accuracy: 0.7184\n",
      "Testing Accuracy:  71.84\n",
      "Testing Loss:  1.32\n"
     ]
    }
   ],
   "source": [
    "prediction = model.evaluate(test_X,test_y)\n",
    "print(\"Testing Accuracy: \", np.around(prediction[1]*100, decimals=2))\n",
    "print(\"Testing Loss: \", np.around(prediction[0],decimals=2))"
   ]
  },
  {
   "cell_type": "code",
   "execution_count": null,
   "id": "nFr3eTL49sKz",
   "metadata": {
    "colab": {
     "base_uri": "https://localhost:8080/",
     "height": 573
    },
    "executionInfo": {
     "elapsed": 676,
     "status": "ok",
     "timestamp": 1632288297157,
     "user": {
      "displayName": "Lokesh Das",
      "photoUrl": "https://lh3.googleusercontent.com/a-/AOh14Gjw3b60ubMiSG1ewSk6HS4odm47Tv7_4eMohXcJAg=s64",
      "userId": "07729187777678404563"
     },
     "user_tz": 300
    },
    "id": "nFr3eTL49sKz",
    "outputId": "72d810a2-d6af-49ff-ba09-34177ca0b6d8"
   },
   "outputs": [
    {
     "data": {
      "image/png": "[encoded data removed]",
      "text/plain": [
       "<Figure size 432x288 with 1 Axes>"
      ]
     },
     "metadata": {},
     "output_type": "display_data"
    },
    {
     "data": {
      "image/png": "[encoded data removed]",
      "text/plain": [
       "<Figure size 432x288 with 1 Axes>"
      ]
     },
     "metadata": {},
     "output_type": "display_data"
    }
   ],
   "source": [
    "plt.plot(history.history['accuracy'], label='accuracy')\n",
    "plt.plot(history.history['val_accuracy'], label = 'val_accuracy')\n",
    "plt.xlabel('Epoch')\n",
    "plt.ylabel('Accuracy')\n",
    "plt.legend(loc='lower right')\n",
    "plt.title(\"Model Accuracy\")\n",
    "plt.show()\n",
    "plt.plot(history.history['loss'],'r', label='loss')\n",
    "plt.plot(history.history['val_loss'],'c', label = 'val_loss')\n",
    "plt.xlabel('Epoch')\n",
    "plt.ylabel('Loss')\n",
    "plt.legend(loc='upper right')\n",
    "plt.title('Model Loss')\n",
    "plt.savefig('model_1_loss.png',format='png')\n",
    "plt.show()"
   ]
  }
 ],
 "metadata": {
  "accelerator": "GPU",
  "colab": {
   "machine_shape": "hm",
   "provenance": []
  },
  "kernelspec": {
   "display_name": "Python 3 (ipykernel)",
   "language": "python",
   "name": "python3"
  },
  "language_info": {
   "codemirror_mode": {
    "name": "ipython",
    "version": 3
   },
   "file_extension": ".py",
   "mimetype": "text/x-python",
   "name": "python",
   "nbconvert_exporter": "python",
   "pygments_lexer": "ipython3",
   "version": "3.9.15"
  }
 },
 "nbformat": 4,
 "nbformat_minor": 5
}
